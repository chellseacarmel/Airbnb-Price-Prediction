{
  "nbformat": 4,
  "nbformat_minor": 5,
  "metadata": {
    "kernelspec": {
      "display_name": "Python 3 (ipykernel)",
      "language": "python",
      "name": "python3"
    },
    "language_info": {
      "codemirror_mode": {
        "name": "ipython",
        "version": 3
      },
      "file_extension": ".py",
      "mimetype": "text/x-python",
      "name": "python",
      "nbconvert_exporter": "python",
      "pygments_lexer": "ipython3",
      "version": "3.7.11"
    },
    "colab": {
      "name": "Copy of Sentiment_Analysis.ipynb",
      "provenance": []
    }
  },
  "cells": [
    {
      "cell_type": "code",
      "metadata": {
        "id": "2b848616"
      },
      "source": [
        "import pandas as pd\n",
        "import numpy as np\n",
        "import matplotlib.pyplot as plt\n",
        "%matplotlib inline\n",
        "import seaborn as sns\n",
        "import os\n",
        "import zipfile"
      ],
      "id": "2b848616",
      "execution_count": 1,
      "outputs": []
    },
    {
      "cell_type": "code",
      "metadata": {
        "id": "ca6b4bb8"
      },
      "source": [
        "import tensorflow as tf\n",
        "from tensorflow.keras.preprocessing.text import Tokenizer\n",
        "from tensorflow.keras.preprocessing.sequence import pad_sequences\n",
        "from tensorflow.keras.layers import Embedding, LSTM, Dense, Bidirectional, Dropout\n",
        "from tensorflow.keras.models import Sequential\n",
        "from tensorflow.keras.callbacks import EarlyStopping\n",
        "\n",
        "from sklearn.model_selection import train_test_split\n",
        "from sklearn.metrics import accuracy_score"
      ],
      "id": "ca6b4bb8",
      "execution_count": 2,
      "outputs": []
    },
    {
      "cell_type": "code",
      "metadata": {
        "id": "zIzqjX7IUGKb"
      },
      "source": [
        "import re\n",
        "import nltk\n",
        "from nltk.corpus import stopwords\n",
        "from nltk.stem.wordnet import WordNetLemmatizer\n",
        "from nltk.tokenize import sent_tokenize, word_tokenize\n",
        "\n",
        "from sklearn.model_selection import train_test_split\n",
        "from sklearn.pipeline import Pipeline\n",
        "from sklearn.feature_extraction.text import CountVectorizer, TfidfTransformer\n",
        "\n",
        "from sklearn.ensemble import AdaBoostClassifier\n",
        "from sklearn.svm import LinearSVC\n",
        "from sklearn.linear_model import LogisticRegression\n",
        "from sklearn.naive_bayes import MultinomialNB\n",
        "from sklearn.ensemble import RandomForestClassifier\n",
        "from sklearn.metrics import confusion_matrix, accuracy_score, classification_report"
      ],
      "id": "zIzqjX7IUGKb",
      "execution_count": 3,
      "outputs": []
    },
    {
      "cell_type": "code",
      "metadata": {
        "colab": {
          "base_uri": "https://localhost:8080/"
        },
        "id": "OlgZh7bSliJU",
        "outputId": "59ffe16c-98de-4c2e-be94-214c3d6c0297"
      },
      "source": [
        "from google.colab import drive\n",
        "drive.mount('/content/drive')"
      ],
      "id": "OlgZh7bSliJU",
      "execution_count": 4,
      "outputs": [
        {
          "output_type": "stream",
          "name": "stdout",
          "text": [
            "Mounted at /content/drive\n"
          ]
        }
      ]
    },
    {
      "cell_type": "code",
      "metadata": {
        "colab": {
          "base_uri": "https://localhost:8080/"
        },
        "id": "IULffgHdloFm",
        "outputId": "f7541ad2-dffb-4faf-f7f3-b3f4a3267e05"
      },
      "source": [
        "cd '/content/drive/My Drive/ML Project'"
      ],
      "id": "IULffgHdloFm",
      "execution_count": 5,
      "outputs": [
        {
          "output_type": "stream",
          "name": "stdout",
          "text": [
            "/content/drive/My Drive/ML Project\n"
          ]
        }
      ]
    },
    {
      "cell_type": "code",
      "metadata": {
        "id": "9a908727",
        "colab": {
          "base_uri": "https://localhost:8080/",
          "height": 37
        },
        "outputId": "e31fca7b-c68a-4c92-a9b6-b2f80a4eb3f1"
      },
      "source": [
        "tf.__version__"
      ],
      "id": "9a908727",
      "execution_count": null,
      "outputs": [
        {
          "output_type": "execute_result",
          "data": {
            "application/vnd.google.colaboratory.intrinsic+json": {
              "type": "string"
            },
            "text/plain": [
              "'2.7.0'"
            ]
          },
          "metadata": {},
          "execution_count": 5
        }
      ]
    },
    {
      "cell_type": "code",
      "metadata": {
        "id": "adb800b7",
        "colab": {
          "base_uri": "https://localhost:8080/",
          "height": 37
        },
        "outputId": "62d967a5-6176-42b4-ce68-c64d68e17dca"
      },
      "source": [
        "pwd"
      ],
      "id": "adb800b7",
      "execution_count": null,
      "outputs": [
        {
          "output_type": "execute_result",
          "data": {
            "application/vnd.google.colaboratory.intrinsic+json": {
              "type": "string"
            },
            "text/plain": [
              "'/content/drive/MyDrive/ML Project'"
            ]
          },
          "metadata": {},
          "execution_count": 5
        }
      ]
    },
    {
      "cell_type": "markdown",
      "metadata": {
        "id": "zOHJe3QATpu4"
      },
      "source": [
        "Sentiment Analysis using Pre-trained GloVe + LSTM"
      ],
      "id": "zOHJe3QATpu4"
    },
    {
      "cell_type": "markdown",
      "metadata": {
        "id": "a1BV7OJeNBFh"
      },
      "source": [
        "Downloading Pre-trained Glove Embeddings "
      ],
      "id": "a1BV7OJeNBFh"
    },
    {
      "cell_type": "code",
      "metadata": {
        "colab": {
          "base_uri": "https://localhost:8080/"
        },
        "id": "PgS4P7T1l8hE",
        "outputId": "457aaedb-e465-4d92-e7c2-776708b930a8"
      },
      "source": [
        "!wget --no-check-certificate \\\n",
        "    http://nlp.stanford.edu/data/glove.6B.zip \\\n",
        "    -O /tmp/glove.6B.zip"
      ],
      "id": "PgS4P7T1l8hE",
      "execution_count": 6,
      "outputs": [
        {
          "output_type": "stream",
          "name": "stdout",
          "text": [
            "--2021-12-06 09:58:27--  http://nlp.stanford.edu/data/glove.6B.zip\n",
            "Resolving nlp.stanford.edu (nlp.stanford.edu)... 171.64.67.140\n",
            "Connecting to nlp.stanford.edu (nlp.stanford.edu)|171.64.67.140|:80... connected.\n",
            "HTTP request sent, awaiting response... 302 Found\n",
            "Location: https://nlp.stanford.edu/data/glove.6B.zip [following]\n",
            "--2021-12-06 09:58:27--  https://nlp.stanford.edu/data/glove.6B.zip\n",
            "Connecting to nlp.stanford.edu (nlp.stanford.edu)|171.64.67.140|:443... connected.\n",
            "HTTP request sent, awaiting response... 301 Moved Permanently\n",
            "Location: http://downloads.cs.stanford.edu/nlp/data/glove.6B.zip [following]\n",
            "--2021-12-06 09:58:27--  http://downloads.cs.stanford.edu/nlp/data/glove.6B.zip\n",
            "Resolving downloads.cs.stanford.edu (downloads.cs.stanford.edu)... 171.64.64.22\n",
            "Connecting to downloads.cs.stanford.edu (downloads.cs.stanford.edu)|171.64.64.22|:80... connected.\n",
            "HTTP request sent, awaiting response... 200 OK\n",
            "Length: 862182613 (822M) [application/zip]\n",
            "Saving to: ‘/tmp/glove.6B.zip’\n",
            "\n",
            "/tmp/glove.6B.zip   100%[===================>] 822.24M  5.08MB/s    in 2m 55s  \n",
            "\n",
            "2021-12-06 10:01:23 (4.69 MB/s) - ‘/tmp/glove.6B.zip’ saved [862182613/862182613]\n",
            "\n"
          ]
        }
      ]
    },
    {
      "cell_type": "code",
      "metadata": {
        "id": "38eb9a92"
      },
      "source": [
        "with zipfile.ZipFile('/tmp/glove.6B.zip', 'r') as zip_ref:\n",
        "    zip_ref.extractall('/tmp/glove')"
      ],
      "id": "38eb9a92",
      "execution_count": 7,
      "outputs": []
    },
    {
      "cell_type": "code",
      "metadata": {
        "id": "6fb68d74",
        "colab": {
          "base_uri": "https://localhost:8080/"
        },
        "outputId": "7cc7bad8-a0b2-40fa-ddae-b48b70300c95"
      },
      "source": [
        "embeddings_index = {}\n",
        "f = open('/tmp/glove/glove.6B.100d.txt')\n",
        "for line in f:\n",
        "    values = line.split()\n",
        "    word = values[0]\n",
        "    try:\n",
        "       coefs = np.asarray(values[1:], dtype='float32')\n",
        "       embeddings_index[word] = coefs\n",
        "    except ValueError:\n",
        "       pass\n",
        "f.close()\n",
        "\n",
        "print('Found %s word vectors.' % len(embeddings_index))"
      ],
      "id": "6fb68d74",
      "execution_count": 8,
      "outputs": [
        {
          "output_type": "stream",
          "name": "stdout",
          "text": [
            "Found 400000 word vectors.\n"
          ]
        }
      ]
    },
    {
      "cell_type": "code",
      "metadata": {
        "id": "23dbc7fc"
      },
      "source": [
        "review_df = pd.read_csv(\"review_polarity.csv\")"
      ],
      "id": "23dbc7fc",
      "execution_count": 9,
      "outputs": []
    },
    {
      "cell_type": "code",
      "metadata": {
        "id": "KAHpV4qFOo6V"
      },
      "source": [
        "review_la = pd.read_csv(\"review_polarity_la.csv\")"
      ],
      "id": "KAHpV4qFOo6V",
      "execution_count": 10,
      "outputs": []
    },
    {
      "cell_type": "code",
      "metadata": {
        "colab": {
          "base_uri": "https://localhost:8080/"
        },
        "id": "K2Fn8-6mOvL7",
        "outputId": "e976ea8c-803d-4c51-dd7c-3e89b377f739"
      },
      "source": [
        "review_df.columns, review_la.columns"
      ],
      "id": "K2Fn8-6mOvL7",
      "execution_count": 13,
      "outputs": [
        {
          "output_type": "execute_result",
          "data": {
            "text/plain": [
              "(Index(['Unnamed: 0', 'listing_id', 'id', 'date', 'reviewer_id',\n",
              "        'reviewer_name', 'comments', 'language', 'polarity'],\n",
              "       dtype='object'),\n",
              " Index(['Unnamed: 0', 'listing_id', 'id', 'date', 'reviewer_id',\n",
              "        'reviewer_name', 'comments', 'language', 'polarity'],\n",
              "       dtype='object'))"
            ]
          },
          "metadata": {},
          "execution_count": 13
        }
      ]
    },
    {
      "cell_type": "code",
      "metadata": {
        "id": "4-04UhJIPdhP"
      },
      "source": [
        "merged_reviews = review_df[[\"comments\", \"polarity\"]].append(review_la[[\"comments\", \"polarity\"]], ignore_index = True)"
      ],
      "id": "4-04UhJIPdhP",
      "execution_count": 14,
      "outputs": []
    },
    {
      "cell_type": "code",
      "metadata": {
        "colab": {
          "base_uri": "https://localhost:8080/",
          "height": 419
        },
        "id": "UfM1VRr2P00k",
        "outputId": "c849971c-e35b-4efb-d301-4b86e2c0912a"
      },
      "source": [
        "merged_reviews"
      ],
      "id": "UfM1VRr2P00k",
      "execution_count": 15,
      "outputs": [
        {
          "output_type": "execute_result",
          "data": {
            "text/html": [
              "<div>\n",
              "<style scoped>\n",
              "    .dataframe tbody tr th:only-of-type {\n",
              "        vertical-align: middle;\n",
              "    }\n",
              "\n",
              "    .dataframe tbody tr th {\n",
              "        vertical-align: top;\n",
              "    }\n",
              "\n",
              "    .dataframe thead th {\n",
              "        text-align: right;\n",
              "    }\n",
              "</style>\n",
              "<table border=\"1\" class=\"dataframe\">\n",
              "  <thead>\n",
              "    <tr style=\"text-align: right;\">\n",
              "      <th></th>\n",
              "      <th>comments</th>\n",
              "      <th>polarity</th>\n",
              "    </tr>\n",
              "  </thead>\n",
              "  <tbody>\n",
              "    <tr>\n",
              "      <th>0</th>\n",
              "      <td>Notre séjour de trois nuits. . Nous avons appr...</td>\n",
              "      <td>NaN</td>\n",
              "    </tr>\n",
              "    <tr>\n",
              "      <th>1</th>\n",
              "      <td>Great experience.</td>\n",
              "      <td>NaN</td>\n",
              "    </tr>\n",
              "    <tr>\n",
              "      <th>2</th>\n",
              "      <td>I've stayed with my friend at the Midtown Cast...</td>\n",
              "      <td>0.9248</td>\n",
              "    </tr>\n",
              "    <tr>\n",
              "      <th>3</th>\n",
              "      <td>We've been staying here for about 9 nights, en...</td>\n",
              "      <td>0.9229</td>\n",
              "    </tr>\n",
              "    <tr>\n",
              "      <th>4</th>\n",
              "      <td>We had a wonderful stay at Jennifer's charming...</td>\n",
              "      <td>0.9464</td>\n",
              "    </tr>\n",
              "    <tr>\n",
              "      <th>...</th>\n",
              "      <td>...</td>\n",
              "      <td>...</td>\n",
              "    </tr>\n",
              "    <tr>\n",
              "      <th>1944667</th>\n",
              "      <td>I’ve been all over the U.S and this is the bes...</td>\n",
              "      <td>0.8975</td>\n",
              "    </tr>\n",
              "    <tr>\n",
              "      <th>1944668</th>\n",
              "      <td>Genial! Casa nueva muy prolija, Alex un genio!</td>\n",
              "      <td>NaN</td>\n",
              "    </tr>\n",
              "    <tr>\n",
              "      <th>1944669</th>\n",
              "      <td>My stay here was very nice. All new appliances...</td>\n",
              "      <td>0.9509</td>\n",
              "    </tr>\n",
              "    <tr>\n",
              "      <th>1944670</th>\n",
              "      <td>Great place, clean and cozy</td>\n",
              "      <td>0.7783</td>\n",
              "    </tr>\n",
              "    <tr>\n",
              "      <th>1944671</th>\n",
              "      <td>Dream is a great communicator and pleasure to ...</td>\n",
              "      <td>0.9062</td>\n",
              "    </tr>\n",
              "  </tbody>\n",
              "</table>\n",
              "<p>1944672 rows × 2 columns</p>\n",
              "</div>"
            ],
            "text/plain": [
              "                                                  comments  polarity\n",
              "0        Notre séjour de trois nuits. . Nous avons appr...       NaN\n",
              "1                                        Great experience.       NaN\n",
              "2        I've stayed with my friend at the Midtown Cast...    0.9248\n",
              "3        We've been staying here for about 9 nights, en...    0.9229\n",
              "4        We had a wonderful stay at Jennifer's charming...    0.9464\n",
              "...                                                    ...       ...\n",
              "1944667  I’ve been all over the U.S and this is the bes...    0.8975\n",
              "1944668     Genial! Casa nueva muy prolija, Alex un genio!       NaN\n",
              "1944669  My stay here was very nice. All new appliances...    0.9509\n",
              "1944670                        Great place, clean and cozy    0.7783\n",
              "1944671  Dream is a great communicator and pleasure to ...    0.9062\n",
              "\n",
              "[1944672 rows x 2 columns]"
            ]
          },
          "metadata": {},
          "execution_count": 15
        }
      ]
    },
    {
      "cell_type": "code",
      "metadata": {
        "id": "628e83ed"
      },
      "source": [
        "def convertScores(val):\n",
        "    if val <= 0:\n",
        "        return 0\n",
        "    if val > 0:\n",
        "        return 1"
      ],
      "id": "628e83ed",
      "execution_count": 39,
      "outputs": []
    },
    {
      "cell_type": "code",
      "metadata": {
        "id": "b7ac1e90"
      },
      "source": [
        "review_df[\"Sentiment\"] = review_df[\"polarity\"].apply(convertScores)"
      ],
      "id": "b7ac1e90",
      "execution_count": null,
      "outputs": []
    },
    {
      "cell_type": "code",
      "metadata": {
        "id": "b4ae5ecc"
      },
      "source": [
        "review_df[\"Sentiment\"].value_counts()"
      ],
      "id": "b4ae5ecc",
      "execution_count": null,
      "outputs": []
    },
    {
      "cell_type": "code",
      "metadata": {
        "id": "RLIeXu2jQaCq"
      },
      "source": [
        "merged_reviews[\"Sentiment\"] = merged_reviews[\"polarity\"].apply(convertScores)"
      ],
      "id": "RLIeXu2jQaCq",
      "execution_count": 40,
      "outputs": []
    },
    {
      "cell_type": "code",
      "metadata": {
        "colab": {
          "base_uri": "https://localhost:8080/"
        },
        "id": "4GcCscf3Qj3V",
        "outputId": "5c86b16d-12cd-4f37-996e-b2155d3febbb"
      },
      "source": [
        "merged_reviews[\"Sentiment\"].value_counts()"
      ],
      "id": "4GcCscf3Qj3V",
      "execution_count": 41,
      "outputs": [
        {
          "output_type": "execute_result",
          "data": {
            "text/plain": [
              "1.0    1661622\n",
              "0.0     123168\n",
              "Name: Sentiment, dtype: int64"
            ]
          },
          "metadata": {},
          "execution_count": 41
        }
      ]
    },
    {
      "cell_type": "code",
      "metadata": {
        "colab": {
          "base_uri": "https://localhost:8080/"
        },
        "id": "qpc2RkcKXrEg",
        "outputId": "81d854a9-f99c-4ed3-a5c5-7c0aa99d3c90"
      },
      "source": [
        "import nltk\n",
        "nltk.download('stopwords')\n",
        "nltk.download('wordnet')"
      ],
      "id": "qpc2RkcKXrEg",
      "execution_count": null,
      "outputs": [
        {
          "output_type": "stream",
          "name": "stdout",
          "text": [
            "[nltk_data] Downloading package stopwords to /root/nltk_data...\n",
            "[nltk_data]   Package stopwords is already up-to-date!\n",
            "[nltk_data] Downloading package wordnet to /root/nltk_data...\n",
            "[nltk_data]   Unzipping corpora/wordnet.zip.\n"
          ]
        },
        {
          "output_type": "execute_result",
          "data": {
            "text/plain": [
              "True"
            ]
          },
          "metadata": {},
          "execution_count": 19
        }
      ]
    },
    {
      "cell_type": "code",
      "metadata": {
        "id": "8JOEIM6cUq59"
      },
      "source": [
        "def preProcess(text):\n",
        "  tokens = re.sub(\"[^a-zA-Z]\",\" \", text).lower().split() \n",
        "  processed_text = [word.lower() for word in tokens if word.lower() not in stopwords.words('english')]\n",
        "  lemmatize_text = [WordNetLemmatizer().lemmatize(word) for word in processed_text if not re.search('\\d', word)]\n",
        "  return \" \".join(lemmatize_text)\n",
        "    "
      ],
      "id": "8JOEIM6cUq59",
      "execution_count": null,
      "outputs": []
    },
    {
      "cell_type": "code",
      "metadata": {
        "id": "YzaYyvPqdvp5"
      },
      "source": [
        "from tqdm import tqdm"
      ],
      "id": "YzaYyvPqdvp5",
      "execution_count": null,
      "outputs": []
    },
    {
      "cell_type": "code",
      "metadata": {
        "colab": {
          "base_uri": "https://localhost:8080/"
        },
        "id": "1yPjDpFAUxSg",
        "outputId": "05c2d062-21d7-447e-f732-5bc3d1901a7d"
      },
      "source": [
        "tqdm.pandas()\n",
        "review_df['comments'] = review_df['comments'].progress_apply(preProcess)"
      ],
      "id": "1yPjDpFAUxSg",
      "execution_count": null,
      "outputs": [
        {
          "output_type": "stream",
          "name": "stderr",
          "text": [
            "100%|██████████| 755572/755572 [1:20:07<00:00, 157.15it/s]\n"
          ]
        }
      ]
    },
    {
      "cell_type": "code",
      "metadata": {
        "id": "jQT8xojKwsWw"
      },
      "source": [
        "review_df.to_csv(\"tokenized_reviews.csv\")"
      ],
      "id": "jQT8xojKwsWw",
      "execution_count": null,
      "outputs": []
    },
    {
      "cell_type": "code",
      "metadata": {
        "colab": {
          "base_uri": "https://localhost:8080/",
          "height": 204
        },
        "id": "XGEWsjNbwl3P",
        "outputId": "6c40fc16-9ed1-4d66-b01e-d1feecd907b2"
      },
      "source": [
        "review_df.head()"
      ],
      "id": "XGEWsjNbwl3P",
      "execution_count": null,
      "outputs": [
        {
          "output_type": "execute_result",
          "data": {
            "text/html": [
              "<div>\n",
              "<style scoped>\n",
              "    .dataframe tbody tr th:only-of-type {\n",
              "        vertical-align: middle;\n",
              "    }\n",
              "\n",
              "    .dataframe tbody tr th {\n",
              "        vertical-align: top;\n",
              "    }\n",
              "\n",
              "    .dataframe thead th {\n",
              "        text-align: right;\n",
              "    }\n",
              "</style>\n",
              "<table border=\"1\" class=\"dataframe\">\n",
              "  <thead>\n",
              "    <tr style=\"text-align: right;\">\n",
              "      <th></th>\n",
              "      <th>Unnamed: 0</th>\n",
              "      <th>listing_id</th>\n",
              "      <th>id</th>\n",
              "      <th>date</th>\n",
              "      <th>reviewer_id</th>\n",
              "      <th>reviewer_name</th>\n",
              "      <th>comments</th>\n",
              "      <th>language</th>\n",
              "      <th>polarity</th>\n",
              "      <th>Sentiment</th>\n",
              "    </tr>\n",
              "  </thead>\n",
              "  <tbody>\n",
              "    <tr>\n",
              "      <th>2</th>\n",
              "      <td>2</td>\n",
              "      <td>2595</td>\n",
              "      <td>19760</td>\n",
              "      <td>2009-12-10</td>\n",
              "      <td>38960</td>\n",
              "      <td>Anita</td>\n",
              "      <td>stayed friend midtown castle six day lovely pl...</td>\n",
              "      <td>en</td>\n",
              "      <td>0.9248</td>\n",
              "      <td>1</td>\n",
              "    </tr>\n",
              "    <tr>\n",
              "      <th>3</th>\n",
              "      <td>3</td>\n",
              "      <td>2595</td>\n",
              "      <td>34320</td>\n",
              "      <td>2010-04-09</td>\n",
              "      <td>71130</td>\n",
              "      <td>Kai-Uwe</td>\n",
              "      <td>staying night enjoying center city never sleep...</td>\n",
              "      <td>en</td>\n",
              "      <td>0.9229</td>\n",
              "      <td>1</td>\n",
              "    </tr>\n",
              "    <tr>\n",
              "      <th>4</th>\n",
              "      <td>4</td>\n",
              "      <td>2595</td>\n",
              "      <td>46312</td>\n",
              "      <td>2010-05-25</td>\n",
              "      <td>117113</td>\n",
              "      <td>Alicia</td>\n",
              "      <td>wonderful stay jennifer charming apartment org...</td>\n",
              "      <td>en</td>\n",
              "      <td>0.9464</td>\n",
              "      <td>1</td>\n",
              "    </tr>\n",
              "    <tr>\n",
              "      <th>5</th>\n",
              "      <td>5</td>\n",
              "      <td>2595</td>\n",
              "      <td>1238204</td>\n",
              "      <td>2012-05-07</td>\n",
              "      <td>1783688</td>\n",
              "      <td>Sergey</td>\n",
              "      <td>hi everyone would say greatest compliment jenn...</td>\n",
              "      <td>en</td>\n",
              "      <td>0.9869</td>\n",
              "      <td>1</td>\n",
              "    </tr>\n",
              "    <tr>\n",
              "      <th>6</th>\n",
              "      <td>6</td>\n",
              "      <td>2595</td>\n",
              "      <td>1293632</td>\n",
              "      <td>2012-05-17</td>\n",
              "      <td>1870771</td>\n",
              "      <td>Loïc</td>\n",
              "      <td>jennifer friendly helpful place exactly advert...</td>\n",
              "      <td>en</td>\n",
              "      <td>0.9668</td>\n",
              "      <td>1</td>\n",
              "    </tr>\n",
              "  </tbody>\n",
              "</table>\n",
              "</div>"
            ],
            "text/plain": [
              "   Unnamed: 0  listing_id       id  ... language  polarity Sentiment\n",
              "2           2        2595    19760  ...       en    0.9248         1\n",
              "3           3        2595    34320  ...       en    0.9229         1\n",
              "4           4        2595    46312  ...       en    0.9464         1\n",
              "5           5        2595  1238204  ...       en    0.9869         1\n",
              "6           6        2595  1293632  ...       en    0.9668         1\n",
              "\n",
              "[5 rows x 10 columns]"
            ]
          },
          "metadata": {},
          "execution_count": 34
        }
      ]
    },
    {
      "cell_type": "code",
      "metadata": {
        "id": "-Tq6fis4YBaW"
      },
      "source": [
        "X = review_df['comments']\n",
        "y = review_df['Sentiment']\n",
        "\n",
        "X_train, X_test, y_train, y_test = train_test_split(X, y, test_size=0.4, random_state = 42)"
      ],
      "id": "-Tq6fis4YBaW",
      "execution_count": null,
      "outputs": []
    },
    {
      "cell_type": "markdown",
      "metadata": {
        "id": "6vbi8pq0DV4P"
      },
      "source": [
        "Logistic Regression"
      ],
      "id": "6vbi8pq0DV4P"
    },
    {
      "cell_type": "code",
      "metadata": {
        "colab": {
          "base_uri": "https://localhost:8080/"
        },
        "id": "f8Nsm79bYLgs",
        "outputId": "8e24f712-0ee8-47fb-c6c3-f0d45072a019"
      },
      "source": [
        "model = Pipeline([('vect', CountVectorizer(ngram_range=(1,2))),\n",
        "                  ('tfidf', TfidfTransformer()),\n",
        "                  ('model',LogisticRegression()),\n",
        "                  ])\n",
        "model.fit(X_train, y_train)\n",
        "ytest = np.array(y_test)\n",
        "pred_y = model.predict(X_test)"
      ],
      "id": "f8Nsm79bYLgs",
      "execution_count": null,
      "outputs": [
        {
          "output_type": "stream",
          "name": "stderr",
          "text": [
            "/usr/local/lib/python3.7/dist-packages/sklearn/linear_model/_logistic.py:818: ConvergenceWarning: lbfgs failed to converge (status=1):\n",
            "STOP: TOTAL NO. of ITERATIONS REACHED LIMIT.\n",
            "\n",
            "Increase the number of iterations (max_iter) or scale the data as shown in:\n",
            "    https://scikit-learn.org/stable/modules/preprocessing.html\n",
            "Please also refer to the documentation for alternative solver options:\n",
            "    https://scikit-learn.org/stable/modules/linear_model.html#logistic-regression\n",
            "  extra_warning_msg=_LOGISTIC_SOLVER_CONVERGENCE_MSG,\n"
          ]
        }
      ]
    },
    {
      "cell_type": "code",
      "metadata": {
        "colab": {
          "base_uri": "https://localhost:8080/"
        },
        "id": "YxbqKe8cxgjZ",
        "outputId": "5128537b-9829-472e-d448-57f82a0089b2"
      },
      "source": [
        "acc = accuracy_score(pred_y, y_test)\n",
        "print('accuracy %s' % acc)\n",
        "print(classification_report(ytest, pred_y))"
      ],
      "id": "YxbqKe8cxgjZ",
      "execution_count": null,
      "outputs": [
        {
          "output_type": "stream",
          "name": "stdout",
          "text": [
            "accuracy 0.9563178914002296\n",
            "              precision    recall  f1-score   support\n",
            "\n",
            "          -1       0.70      0.37      0.49      2416\n",
            "           0       0.83      0.64      0.72     24925\n",
            "           1       0.97      0.99      0.98    274888\n",
            "\n",
            "    accuracy                           0.96    302229\n",
            "   macro avg       0.83      0.67      0.73    302229\n",
            "weighted avg       0.95      0.96      0.95    302229\n",
            "\n"
          ]
        }
      ]
    },
    {
      "cell_type": "markdown",
      "metadata": {
        "id": "1-626B9kDcB2"
      },
      "source": [
        "Linear SVC"
      ],
      "id": "1-626B9kDcB2"
    },
    {
      "cell_type": "code",
      "metadata": {
        "colab": {
          "base_uri": "https://localhost:8080/"
        },
        "id": "ss-RVu2Yy5t8",
        "outputId": "b90c28b5-f3cd-49ef-dbfa-1f384a0aff7b"
      },
      "source": [
        "model_svm = Pipeline([('vect', CountVectorizer(ngram_range=(1, 2))),\n",
        "                    ('tfidf', TfidfTransformer()),\n",
        "                    ('svm',LinearSVC()),\n",
        "                    ])\n",
        "model_svm.fit(X_train, y_train)\n",
        "ytest = np.array(y_test)\n",
        "pred_y = model_svm.predict(X_test)\n",
        "acc = accuracy_score(y_predict, y_test)\n",
        "print('accuracy %s' % acc)\n",
        "print(classification_report(ytest, pred_y))"
      ],
      "id": "ss-RVu2Yy5t8",
      "execution_count": null,
      "outputs": [
        {
          "output_type": "stream",
          "name": "stdout",
          "text": [
            "accuracy 0.9556826115296679\n",
            "              precision    recall  f1-score   support\n",
            "\n",
            "          -1       0.69      0.38      0.49      2416\n",
            "           0       0.79      0.67      0.73     24925\n",
            "           1       0.97      0.99      0.98    274888\n",
            "\n",
            "    accuracy                           0.96    302229\n",
            "   macro avg       0.82      0.68      0.73    302229\n",
            "weighted avg       0.95      0.96      0.95    302229\n",
            "\n"
          ]
        }
      ]
    },
    {
      "cell_type": "markdown",
      "metadata": {
        "id": "7FlIkBpdDjT6"
      },
      "source": [
        "Adaboost"
      ],
      "id": "7FlIkBpdDjT6"
    },
    {
      "cell_type": "code",
      "metadata": {
        "colab": {
          "base_uri": "https://localhost:8080/"
        },
        "id": "WcP1HOeezUBg",
        "outputId": "cb478530-9bde-4081-fdef-ae71644a0462"
      },
      "source": [
        "model_ab = Pipeline([('vect', CountVectorizer(ngram_range=(1,2))),\n",
        "                    ('tfidf', TfidfTransformer()),\n",
        "                    ('ada', AdaBoostClassifier()),\n",
        "                    ])\n",
        "model_ab.fit(X_train, y_train)\n",
        "ytest = np.array(y_test)\n",
        "pred_y = model_ab.predict(X_test)\n",
        "acc = accuracy_score(y_pred, y_test)\n",
        "print('accuracy %s' % acc)\n",
        "print(classification_report(ytest, pred_y))"
      ],
      "id": "WcP1HOeezUBg",
      "execution_count": null,
      "outputs": [
        {
          "output_type": "stream",
          "name": "stdout",
          "text": [
            "accuracy 0.9355290193859623\n",
            "              precision    recall  f1-score   support\n",
            "\n",
            "          -1       0.53      0.29      0.38      2416\n",
            "           0       0.71      0.46      0.56     24925\n",
            "           1       0.95      0.98      0.97    274888\n",
            "\n",
            "    accuracy                           0.94    302229\n",
            "   macro avg       0.73      0.58      0.63    302229\n",
            "weighted avg       0.93      0.94      0.93    302229\n",
            "\n"
          ]
        }
      ]
    },
    {
      "cell_type": "code",
      "metadata": {
        "id": "99fce643",
        "colab": {
          "base_uri": "https://localhost:8080/"
        },
        "outputId": "84a815ae-b065-47c8-e2c6-5942f26de8c9"
      },
      "source": [
        "review_df[\"Sentiment\"].isna().sum(), review_df[\"comments\"].isna().sum()"
      ],
      "id": "99fce643",
      "execution_count": null,
      "outputs": [
        {
          "output_type": "execute_result",
          "data": {
            "text/plain": [
              "(0, 0)"
            ]
          },
          "metadata": {},
          "execution_count": 11
        }
      ]
    },
    {
      "cell_type": "code",
      "metadata": {
        "id": "bfa91c49"
      },
      "source": [
        "review_df.dropna(subset = [\"Sentiment\", \"comments\"], inplace = True)"
      ],
      "id": "bfa91c49",
      "execution_count": null,
      "outputs": []
    },
    {
      "cell_type": "code",
      "metadata": {
        "id": "4FOb9FXEScv1"
      },
      "source": [
        "merged_reviews.dropna(subset = [\"Sentiment\", \"comments\"], inplace = True)"
      ],
      "id": "4FOb9FXEScv1",
      "execution_count": 42,
      "outputs": []
    },
    {
      "cell_type": "code",
      "metadata": {
        "colab": {
          "base_uri": "https://localhost:8080/"
        },
        "id": "06vGWPvmSiqr",
        "outputId": "3bbdfce9-1c17-449d-98ca-f09d9bf75164"
      },
      "source": [
        "merged_reviews[\"Sentiment\"].isna().sum(), merged_reviews[\"comments\"].isna().sum()"
      ],
      "id": "06vGWPvmSiqr",
      "execution_count": 43,
      "outputs": [
        {
          "output_type": "execute_result",
          "data": {
            "text/plain": [
              "(0, 0)"
            ]
          },
          "metadata": {},
          "execution_count": 43
        }
      ]
    },
    {
      "cell_type": "code",
      "metadata": {
        "id": "ZLs7Bo71TCS3"
      },
      "source": [
        "X = merged_reviews['comments']\n",
        "y = merged_reviews['Sentiment']\n",
        "\n",
        "X_train_sentences, X_test_sentences, y_train, y_test = train_test_split(X, y, test_size=0.7, random_state = 42)"
      ],
      "id": "ZLs7Bo71TCS3",
      "execution_count": 44,
      "outputs": []
    },
    {
      "cell_type": "code",
      "metadata": {
        "colab": {
          "base_uri": "https://localhost:8080/"
        },
        "id": "-pFUx2VjTXGJ",
        "outputId": "0500d985-e8bb-45a8-ccfc-3a5d4a2c5d86"
      },
      "source": [
        "len(X_train_sentences), len(X_test_sentences), len(y_train), len(y_test)"
      ],
      "id": "-pFUx2VjTXGJ",
      "execution_count": 45,
      "outputs": [
        {
          "output_type": "execute_result",
          "data": {
            "text/plain": [
              "(535437, 1249353, 535437, 1249353)"
            ]
          },
          "metadata": {},
          "execution_count": 45
        }
      ]
    },
    {
      "cell_type": "code",
      "metadata": {
        "id": "577f8d6f"
      },
      "source": [
        "X = review_df['comments']\n",
        "y = review_df['Sentiment']\n",
        "\n",
        "X_train_sentences, X_test_sentences, y_train, y_test = train_test_split(X, y, test_size=0.4, random_state = 42)"
      ],
      "id": "577f8d6f",
      "execution_count": null,
      "outputs": []
    },
    {
      "cell_type": "code",
      "metadata": {
        "id": "82093632",
        "colab": {
          "base_uri": "https://localhost:8080/"
        },
        "outputId": "559cee82-ed24-4e01-b49e-a629433ffaf6"
      },
      "source": [
        "len(X_train_sentences), len(X_test_sentences), len(y_train), len(y_test)"
      ],
      "id": "82093632",
      "execution_count": null,
      "outputs": [
        {
          "output_type": "execute_result",
          "data": {
            "text/plain": [
              "(453343, 302229, 453343, 302229)"
            ]
          },
          "metadata": {},
          "execution_count": 91
        }
      ]
    },
    {
      "cell_type": "code",
      "metadata": {
        "id": "18971aad"
      },
      "source": [
        "# import gensim\n",
        "# model1 = gensim.models.Word2Vec(window=5, min_count=2, workers=8)\n",
        "# model1.build_vocab(review_df['comments'])"
      ],
      "id": "18971aad",
      "execution_count": null,
      "outputs": []
    },
    {
      "cell_type": "code",
      "metadata": {
        "id": "c54ca621"
      },
      "source": [
        "tokenize = Tokenizer(num_words = 5000, oov_token=\"<OOV>\")\n",
        "tokenize.fit_on_texts(X_train_sentences)"
      ],
      "id": "c54ca621",
      "execution_count": 47,
      "outputs": []
    },
    {
      "cell_type": "code",
      "metadata": {
        "id": "63402b32"
      },
      "source": [
        "word_index = tokenize.word_index"
      ],
      "id": "63402b32",
      "execution_count": 48,
      "outputs": []
    },
    {
      "cell_type": "code",
      "metadata": {
        "id": "efa65f72",
        "colab": {
          "base_uri": "https://localhost:8080/"
        },
        "outputId": "5f1380f6-1f5d-4bbf-b494-7c9360873555"
      },
      "source": [
        "len(word_index)"
      ],
      "id": "efa65f72",
      "execution_count": 49,
      "outputs": [
        {
          "output_type": "execute_result",
          "data": {
            "text/plain": [
              "98748"
            ]
          },
          "metadata": {},
          "execution_count": 49
        }
      ]
    },
    {
      "cell_type": "code",
      "metadata": {
        "id": "1b13937d"
      },
      "source": [
        "X_train = tokenize.texts_to_sequences(X_train_sentences)\n",
        "X_test = tokenize.texts_to_sequences(X_test_sentences)\n",
        "X_train_pad = pad_sequences(X_train,maxlen=100, padding='post', truncating='post')\n",
        "X_test_pad = pad_sequences(X_test,maxlen=100, padding='post', truncating='post')"
      ],
      "id": "1b13937d",
      "execution_count": 51,
      "outputs": []
    },
    {
      "cell_type": "code",
      "metadata": {
        "id": "85c05dd2"
      },
      "source": [
        "num_words = len(word_index) + 1\n",
        "\n",
        "embedding_matrix = np.zeros((num_words, 100))\n",
        "for word, i in word_index.items():\n",
        "    embedding_vector = embeddings_index.get(word) \n",
        "    if embedding_vector is not None:\n",
        "        # words not found in embedding index will be all-zeros.\n",
        "        embedding_matrix[i] = embedding_vector"
      ],
      "id": "85c05dd2",
      "execution_count": 52,
      "outputs": []
    },
    {
      "cell_type": "code",
      "metadata": {
        "id": "bbc39247"
      },
      "source": [
        "embedding_layer = Embedding(num_words,\n",
        "                            100,\n",
        "                            weights=[embedding_matrix],\n",
        "                            input_length=100,\n",
        "                            trainable=False)"
      ],
      "id": "bbc39247",
      "execution_count": 53,
      "outputs": []
    },
    {
      "cell_type": "code",
      "metadata": {
        "id": "ab3457ce"
      },
      "source": [
        "%load_ext tensorboard"
      ],
      "id": "ab3457ce",
      "execution_count": 54,
      "outputs": []
    },
    {
      "cell_type": "code",
      "metadata": {
        "id": "147d9d50"
      },
      "source": [
        "import datetime\n",
        "log_dir=r\"\\Tensorboard_ex\\logs_1\\fit\\\"\" + datetime.datetime.now().strftime('%Y%m%d-%H%M%S')\n",
        "tensorboard_callback= tf.keras.callbacks.TensorBoard(log_dir=log_dir, histogram_freq=1)"
      ],
      "id": "147d9d50",
      "execution_count": 55,
      "outputs": []
    },
    {
      "cell_type": "code",
      "metadata": {
        "id": "cea2b4b5",
        "colab": {
          "base_uri": "https://localhost:8080/"
        },
        "outputId": "eaffad3a-e81f-41e6-a314-0c307166ba6f"
      },
      "source": [
        "model = Sequential([\n",
        "    embedding_layer,\n",
        "    Bidirectional(LSTM(16, return_sequences=True)), \n",
        "    Bidirectional(LSTM(16)),\n",
        "    Dense(6, activation='relu'),\n",
        "    Dense(1, activation='sigmoid')\n",
        "])\n",
        "model.compile(loss='binary_crossentropy',optimizer='adam',metrics=['accuracy'])\n",
        "model.summary()"
      ],
      "id": "cea2b4b5",
      "execution_count": null,
      "outputs": [
        {
          "output_type": "stream",
          "name": "stdout",
          "text": [
            "Model: \"sequential_2\"\n",
            "_________________________________________________________________\n",
            " Layer (type)                Output Shape              Param #   \n",
            "=================================================================\n",
            " embedding_1 (Embedding)     (None, 100, 100)          9321400   \n",
            "                                                                 \n",
            " bidirectional_4 (Bidirectio  (None, 100, 32)          14976     \n",
            " nal)                                                            \n",
            "                                                                 \n",
            " bidirectional_5 (Bidirectio  (None, 32)               6272      \n",
            " nal)                                                            \n",
            "                                                                 \n",
            " dense_4 (Dense)             (None, 6)                 198       \n",
            "                                                                 \n",
            " dense_5 (Dense)             (None, 1)                 7         \n",
            "                                                                 \n",
            "=================================================================\n",
            "Total params: 9,342,853\n",
            "Trainable params: 21,453\n",
            "Non-trainable params: 9,321,400\n",
            "_________________________________________________________________\n"
          ]
        }
      ]
    },
    {
      "cell_type": "code",
      "metadata": {
        "id": "1b98f30f",
        "colab": {
          "base_uri": "https://localhost:8080/"
        },
        "outputId": "1cab255b-25ce-4ccd-eb90-75f4837168d9"
      },
      "source": [
        "history = model.fit(X_train_pad, y_train,\n",
        "                    batch_size=100,\n",
        "                    epochs=2,\n",
        "                    validation_data=(X_test_pad, y_test),\n",
        "                    verbose=1, \n",
        "                    callbacks=[tensorboard_callback])"
      ],
      "id": "1b98f30f",
      "execution_count": null,
      "outputs": [
        {
          "output_type": "stream",
          "name": "stdout",
          "text": [
            "Epoch 1/2\n",
            "4534/4534 [==============================] - 820s 179ms/step - loss: 0.0831 - accuracy: 0.9455 - val_loss: -0.1699 - val_accuracy: 0.9524\n",
            "Epoch 2/2\n",
            "4534/4534 [==============================] - 837s 185ms/step - loss: -0.5102 - accuracy: 0.9477 - val_loss: -1.3144 - val_accuracy: 0.9353\n"
          ]
        }
      ]
    },
    {
      "cell_type": "code",
      "metadata": {
        "colab": {
          "base_uri": "https://localhost:8080/"
        },
        "id": "aP_YMU408nXl",
        "outputId": "9133ace1-dbac-44e9-b3c0-6401df9b611c"
      },
      "source": [
        "loss, accuracy = model.evaluate(X_test_pad,y_test, callbacks=[tensorboard_callback])\n",
        "print('Test accuracy :', accuracy)"
      ],
      "id": "aP_YMU408nXl",
      "execution_count": null,
      "outputs": [
        {
          "output_type": "stream",
          "name": "stdout",
          "text": [
            "9445/9445 [==============================] - 245s 26ms/step - loss: -1.3143 - accuracy: 0.9353\n",
            "Test accuracy : 0.9352841973304749\n"
          ]
        }
      ]
    },
    {
      "cell_type": "code",
      "metadata": {
        "colab": {
          "base_uri": "https://localhost:8080/"
        },
        "id": "PPsGuhbLLu3o",
        "outputId": "80ddead5-3f6b-429b-8a51-ed3ce9d9f380"
      },
      "source": [
        "model1 = Sequential([\n",
        "    embedding_layer,\n",
        "    Bidirectional(LSTM(16, return_sequences=True)), \n",
        "    Bidirectional(LSTM(16)),\n",
        "    Dense(6, activation='relu'),\n",
        "    Dense(1, activation='sigmoid')\n",
        "])\n",
        "model1.compile(loss='binary_crossentropy',optimizer='adam',metrics=['accuracy'])\n",
        "model1.summary()"
      ],
      "id": "PPsGuhbLLu3o",
      "execution_count": null,
      "outputs": [
        {
          "output_type": "stream",
          "name": "stdout",
          "text": [
            "Model: \"sequential_7\"\n",
            "_________________________________________________________________\n",
            " Layer (type)                Output Shape              Param #   \n",
            "=================================================================\n",
            " embedding_2 (Embedding)     (None, 100, 100)          9321400   \n",
            "                                                                 \n",
            " bidirectional_14 (Bidirecti  (None, 100, 32)          14976     \n",
            " onal)                                                           \n",
            "                                                                 \n",
            " bidirectional_15 (Bidirecti  (None, 32)               6272      \n",
            " onal)                                                           \n",
            "                                                                 \n",
            " dense_12 (Dense)            (None, 6)                 198       \n",
            "                                                                 \n",
            " dense_13 (Dense)            (None, 1)                 7         \n",
            "                                                                 \n",
            "=================================================================\n",
            "Total params: 9,342,853\n",
            "Trainable params: 21,453\n",
            "Non-trainable params: 9,321,400\n",
            "_________________________________________________________________\n"
          ]
        }
      ]
    },
    {
      "cell_type": "code",
      "metadata": {
        "colab": {
          "base_uri": "https://localhost:8080/"
        },
        "id": "FPsVPwhQLo2X",
        "outputId": "a563f89c-5a92-4a69-8554-56326049c047"
      },
      "source": [
        "history = model1.fit(X_train_pad, y_train,\n",
        "                    batch_size=64,\n",
        "                    epochs=5,\n",
        "                    validation_data=(X_test_pad, y_test),\n",
        "                    verbose=1, \n",
        "                    callbacks=[tensorboard_callback])"
      ],
      "id": "FPsVPwhQLo2X",
      "execution_count": null,
      "outputs": [
        {
          "output_type": "stream",
          "name": "stdout",
          "text": [
            "Epoch 1/5\n",
            "7084/7084 [==============================] - 1059s 149ms/step - loss: 0.0475 - accuracy: 0.9848 - val_loss: 0.0391 - val_accuracy: 0.9855\n",
            "Epoch 2/5\n",
            "7084/7084 [==============================] - 1046s 148ms/step - loss: 0.0363 - accuracy: 0.9869 - val_loss: 0.0349 - val_accuracy: 0.9873\n",
            "Epoch 3/5\n",
            "7084/7084 [==============================] - 1064s 150ms/step - loss: 0.0329 - accuracy: 0.9879 - val_loss: 0.0325 - val_accuracy: 0.9880\n",
            "Epoch 4/5\n",
            "7084/7084 [==============================] - 1016s 143ms/step - loss: 0.0304 - accuracy: 0.9886 - val_loss: 0.0313 - val_accuracy: 0.9885\n",
            "Epoch 5/5\n",
            "7084/7084 [==============================] - 1050s 148ms/step - loss: 0.0283 - accuracy: 0.9894 - val_loss: 0.0305 - val_accuracy: 0.9887\n"
          ]
        }
      ]
    },
    {
      "cell_type": "code",
      "metadata": {
        "id": "fkrPPqFVTh1r"
      },
      "source": [
        "model1.save(\"sentiment_analysis_model2.h5\")"
      ],
      "id": "fkrPPqFVTh1r",
      "execution_count": null,
      "outputs": []
    },
    {
      "cell_type": "code",
      "metadata": {
        "id": "mqa--1kEBKG3"
      },
      "source": [
        "model.save(\"sentiment_model.h5\")"
      ],
      "id": "mqa--1kEBKG3",
      "execution_count": null,
      "outputs": []
    },
    {
      "cell_type": "code",
      "metadata": {
        "id": "sR6IqajW_MHg"
      },
      "source": [
        "model.save(\"sentiment_analysis_model1.h5\")"
      ],
      "id": "sR6IqajW_MHg",
      "execution_count": null,
      "outputs": []
    },
    {
      "cell_type": "code",
      "metadata": {
        "colab": {
          "base_uri": "https://localhost:8080/"
        },
        "id": "Fv2TZ5XhTzFO",
        "outputId": "ff5fe3c9-2f25-4dc9-95d0-c32eeaf55fce"
      },
      "source": [
        "model2 = Sequential([\n",
        "    embedding_layer,\n",
        "    Bidirectional(LSTM(16, return_sequences=True)), \n",
        "    Bidirectional(LSTM(16)),\n",
        "    Dense(6, activation='relu'),\n",
        "    Dense(1, activation='sigmoid')\n",
        "])\n",
        "model2.compile(loss='binary_crossentropy',optimizer='adam',metrics=['accuracy'])\n",
        "model2.summary()"
      ],
      "id": "Fv2TZ5XhTzFO",
      "execution_count": 56,
      "outputs": [
        {
          "output_type": "stream",
          "name": "stdout",
          "text": [
            "Model: \"sequential\"\n",
            "_________________________________________________________________\n",
            " Layer (type)                Output Shape              Param #   \n",
            "=================================================================\n",
            " embedding (Embedding)       (None, 100, 100)          9874900   \n",
            "                                                                 \n",
            " bidirectional (Bidirectiona  (None, 100, 32)          14976     \n",
            " l)                                                              \n",
            "                                                                 \n",
            " bidirectional_1 (Bidirectio  (None, 32)               6272      \n",
            " nal)                                                            \n",
            "                                                                 \n",
            " dense (Dense)               (None, 6)                 198       \n",
            "                                                                 \n",
            " dense_1 (Dense)             (None, 1)                 7         \n",
            "                                                                 \n",
            "=================================================================\n",
            "Total params: 9,896,353\n",
            "Trainable params: 21,453\n",
            "Non-trainable params: 9,874,900\n",
            "_________________________________________________________________\n"
          ]
        }
      ]
    },
    {
      "cell_type": "code",
      "metadata": {
        "colab": {
          "base_uri": "https://localhost:8080/"
        },
        "id": "WOJnUpFRT9hp",
        "outputId": "8448cf6c-c5ab-46a0-9645-9344171c8262"
      },
      "source": [
        "history = model2.fit(X_train_pad, y_train,\n",
        "                    batch_size=64,\n",
        "                    epochs=5,\n",
        "                    validation_data=(X_test_pad, y_test),\n",
        "                    verbose=1, \n",
        "                    callbacks=[tensorboard_callback])"
      ],
      "id": "WOJnUpFRT9hp",
      "execution_count": 57,
      "outputs": [
        {
          "output_type": "stream",
          "name": "stdout",
          "text": [
            "Epoch 1/5\n",
            "8367/8367 [==============================] - 1401s 167ms/step - loss: 0.0955 - accuracy: 0.9641 - val_loss: 0.0808 - val_accuracy: 0.9685\n",
            "Epoch 2/5\n",
            "8367/8367 [==============================] - 1350s 161ms/step - loss: 0.0738 - accuracy: 0.9718 - val_loss: 0.0749 - val_accuracy: 0.9705\n",
            "Epoch 3/5\n",
            "8367/8367 [==============================] - 1342s 160ms/step - loss: 0.0664 - accuracy: 0.9747 - val_loss: 0.0660 - val_accuracy: 0.9748\n",
            "Epoch 4/5\n",
            "8367/8367 [==============================] - 1387s 166ms/step - loss: 0.0612 - accuracy: 0.9767 - val_loss: 0.0618 - val_accuracy: 0.9768\n",
            "Epoch 5/5\n",
            "8367/8367 [==============================] - 1390s 166ms/step - loss: 0.0576 - accuracy: 0.9782 - val_loss: 0.0589 - val_accuracy: 0.9778\n"
          ]
        }
      ]
    },
    {
      "cell_type": "code",
      "metadata": {
        "colab": {
          "base_uri": "https://localhost:8080/"
        },
        "id": "KUcG2S99pB2V",
        "outputId": "17e77773-2f59-43c3-9c27-9733fb278987"
      },
      "source": [
        "loss, accuracy = model2.evaluate(X_test_pad,y_test, callbacks=[tensorboard_callback])\n",
        "print('Test accuracy :', accuracy)"
      ],
      "id": "KUcG2S99pB2V",
      "execution_count": 58,
      "outputs": [
        {
          "output_type": "stream",
          "name": "stdout",
          "text": [
            "39043/39043 [==============================] - 804s 21ms/step - loss: 0.0589 - accuracy: 0.9778\n",
            "Test accuracy : 0.9778261184692383\n"
          ]
        }
      ]
    },
    {
      "cell_type": "code",
      "metadata": {
        "colab": {
          "base_uri": "https://localhost:8080/",
          "height": 541
        },
        "id": "3RtRLkrptkIC",
        "outputId": "411317b6-4c9e-4296-fd1c-a37f68e75c48"
      },
      "source": [
        "def plot_graphs(history, string):\n",
        "  plt.plot(history.history[string])\n",
        "  plt.plot(history.history['val_'+string])\n",
        "  plt.xlabel(\"Epochs\")\n",
        "  plt.ylabel(string)\n",
        "  plt.legend([string, 'val_'+string])\n",
        "  plt.show()\n",
        "  \n",
        "plot_graphs(history, \"accuracy\")\n",
        "plot_graphs(history, \"loss\")"
      ],
      "id": "3RtRLkrptkIC",
      "execution_count": 59,
      "outputs": [
        {
          "output_type": "display_data",
          "data": {
            "image/png": "[encoded data removed]",
            "text/plain": [
              "<Figure size 432x288 with 1 Axes>"
            ]
          },
          "metadata": {
            "needs_background": "light"
          }
        },
        {
          "output_type": "display_data",
          "data": {
            "image/png": "[encoded data removed]",
            "text/plain": [
              "<Figure size 432x288 with 1 Axes>"
            ]
          },
          "metadata": {
            "needs_background": "light"
          }
        }
      ]
    },
    {
      "cell_type": "code",
      "metadata": {
        "id": "S14fl8DjtnwC"
      },
      "source": [
        "model2.save(\"sentiment_analysis_model3.h5\")"
      ],
      "id": "S14fl8DjtnwC",
      "execution_count": 60,
      "outputs": []
    },
    {
      "cell_type": "code",
      "metadata": {
        "id": "BSA2wpP-BQWc"
      },
      "source": [
        "%tensorboard --logdir=\"\\Tensorboard_ex\\logs_1\\fit\""
      ],
      "id": "BSA2wpP-BQWc",
      "execution_count": null,
      "outputs": []
    },
    {
      "cell_type": "code",
      "metadata": {
        "colab": {
          "base_uri": "https://localhost:8080/",
          "height": 37
        },
        "id": "Dol_xpBICVjv",
        "outputId": "1f80f2e5-b3c0-4840-aac2-d37ed30e047f"
      },
      "source": [
        "log_dir"
      ],
      "id": "Dol_xpBICVjv",
      "execution_count": null,
      "outputs": [
        {
          "output_type": "execute_result",
          "data": {
            "application/vnd.google.colaboratory.intrinsic+json": {
              "type": "string"
            },
            "text/plain": [
              "'\\\\Tensorboard_ex\\\\logs_1\\\\fit\\\\\"20211205-092019'"
            ]
          },
          "metadata": {},
          "execution_count": 54
        }
      ]
    },
    {
      "cell_type": "code",
      "metadata": {
        "colab": {
          "base_uri": "https://localhost:8080/",
          "height": 37
        },
        "id": "-YTJDYSGDMWM",
        "outputId": "9bf2eef4-7f92-42a6-842f-1b87974348f8"
      },
      "source": [
        "pwd"
      ],
      "id": "-YTJDYSGDMWM",
      "execution_count": null,
      "outputs": [
        {
          "output_type": "execute_result",
          "data": {
            "application/vnd.google.colaboratory.intrinsic+json": {
              "type": "string"
            },
            "text/plain": [
              "'/content/drive/My Drive/ML Project'"
            ]
          },
          "metadata": {},
          "execution_count": 59
        }
      ]
    },
    {
      "cell_type": "code",
      "metadata": {
        "colab": {
          "base_uri": "https://localhost:8080/"
        },
        "id": "WOyXCSczDeqO",
        "outputId": "a46ed5dc-8184-45b1-aff1-33355852b592"
      },
      "source": [
        "cd .."
      ],
      "id": "WOyXCSczDeqO",
      "execution_count": null,
      "outputs": [
        {
          "output_type": "stream",
          "name": "stdout",
          "text": [
            "/content/drive/My Drive\n"
          ]
        }
      ]
    },
    {
      "cell_type": "code",
      "metadata": {
        "id": "T4oV78zUCOio"
      },
      "source": [
        "#%tensorboard —-logdir=logs\n",
        "%tensorboard --logdir=\"ML Project/logs\" --port=8008"
      ],
      "id": "T4oV78zUCOio",
      "execution_count": null,
      "outputs": []
    }
  ]
}