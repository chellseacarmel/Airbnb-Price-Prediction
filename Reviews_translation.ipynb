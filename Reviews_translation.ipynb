{
 "cells": [
  {
   "cell_type": "code",
   "execution_count": 5,
   "id": "2dfd6f95",
   "metadata": {},
   "outputs": [],
   "source": [
    "import geoplot as gplt\n",
    "import geopandas as gpd\n",
    "import geoplot.crs as gcrs\n",
    "#import imageio\n",
    "import pandas as pd\n",
    "import pathlib\n",
    "import matplotlib.pyplot as plt\n",
    "import mapclassify as mc\n",
    "import numpy as np"
   ]
  },
  {
   "cell_type": "code",
   "execution_count": 24,
   "id": "2a280416",
   "metadata": {},
   "outputs": [
    {
     "name": "stdout",
     "output_type": "stream",
     "text": [
      "/Users/manalshah/Desktop/ML Project/Dataset/NYC\n"
     ]
    }
   ],
   "source": [
    "cd ../NYC"
   ]
  },
  {
   "cell_type": "code",
   "execution_count": 25,
   "id": "71213966",
   "metadata": {},
   "outputs": [],
   "source": [
    "review_lang = pd.read_csv(\"reviews_language.csv\")"
   ]
  },
  {
   "cell_type": "code",
   "execution_count": 8,
   "id": "9d641cfc",
   "metadata": {},
   "outputs": [],
   "source": [
    "language_short_name = {'aa':'Afar','ab':'Abkhazian','af':'Afrikaans','ak':'Akan','sq':'Albanian','am':'Amharic','ar':'Arabic',\n",
    "'an':'Aragonese','hy':'Armenian','as':'Assamese','av':'Avaric','ae':'Avestan','ay':'Aymara','az':'Azerbaijani','ba':'Bashkir',\n",
    "'bm':'Bambara','eu':'Basque','be':'Belarusian','bn':'Bengali','bh':'Bihari languages','bi':'Bislama','bo':'Tibetan','bs':'Bosnian',\n",
    "'br':'Breton','bg':'Bulgarian','my':'Burmese','ca':'Catalan; Valencian','cs':'Czech','ch':'Chamorro','ce':'Chechen','zh':'Chinese',\n",
    "'cu':'Church Slavic; Old Slavonic; Church Slavonic; Old Bulgarian; Old Church Slavonic','cv':'Chuvash','kw':'Cornish','co':'Corsican',\n",
    "'cr':'Cree','cy':'Welsh','cs':'Czech','da':'Danish','de':'German','dv':'Divehi; Dhivehi; Maldivian','nl':'Dutch; Flemish','dz':'Dzongkha',\n",
    "'el':'Greek-Modern (1453-)','en':'English','eo':'Esperanto','et':'Estonian','eu':'Basque','ee':'Ewe','fo':'Faroese','fa':'Persian',\n",
    "'fj':'Fijian','fi':'Finnish','fr':'French','fy':'Western Frisian','ff':'Fulah','Ga':'Georgian','gd':'Gaelic; Scottish Gaelic','ga':'Irish',\n",
    "'gl':'Galician','gv':'Manx','el':'Greek-Modern (1453-)','gn':'Guarani','gu':'Gujarati','ht':'Haitian; Haitian Creole','ha':'Hausa',\n",
    "'he':'Hebrew','hz':'Herero','hi':'Hindi','ho':'Hiri Motu','hr':'Croatian','hu':'Hungarian','hy':'Armenian','ig':'Igbo','is':'Icelandic',\n",
    "'io':'Ido','ii':'Sichuan Yi; Nuosu','iu':'Inuktitut','ie':'Interlingue; Occidental',\n",
    "'ia':'Interlingua (International Auxiliary Language Association)','id':'Indonesian','ik':'Inupiaq','is':'Icelandic','it':'Italian',\n",
    "'jv':'Javanese','ja':'Japanese','kl':'Kalaallisut; Greenlandic','kn':'Kannada','ks':'Kashmiri','ka':'Georgian','kr':'Kanuri','kk':'Kazakh',\n",
    "'km':'Central Khmer','ki':'Kikuyu; Gikuyu','rw':'Kinyarwanda','ky':'Kirghiz; Kyrgyz','kv':'Komi','kg':'Kongo','ko':'Korean',\n",
    "'kj':'Kuanyama; Kwanyama','ku':'Kurdish','lo':'Lao','la':'Latin','lv':'Latvian','li':'Limburgan; Limburger; Limburgish','ln':'Lingala',\n",
    "'lt':'Lithuanian','lb':'Luxembourgish; Letzeburgesch','lu':'Luba-Katanga','lg':'Ganda','mk':'Macedonian','mh':'Marshallese',\n",
    "'ml':'Malayalam','mi':'Maori','mr':'Marathi','ms':'Malay','Mi':'Micmac','mk':'Macedonian','mg':'Malagasy','mt':'Maltese',\n",
    "'mn':'Mongolian','mi':'Maori','ms':'Malay','my':'Burmese','na':'Nauru','nv':'Navajo; Navaho','nr':'Ndebele-South; South Ndebele',\n",
    "'nd':'Ndebele-North; North Ndebele','ng':'Ndonga','ne':'Nepali','nl':'Dutch; Flemish','nn':'Norwegian Nynorsk; Nynorsk:Norwegian',\n",
    "'nb':'Bokmål-Norwegian; Norwegian Bokmål','no':'Norwegian','oc':'Occitan (post 1500)','oj':'Ojibwa','or':'Oriya','om':'Oromo',\n",
    "'os':'Ossetian; Ossetic','pa':'Panjabi; Punjabi','fa':'Persian','pi':'Pali','pl':'Polish','pt':'Portuguese','ps':'Pushto; Pashto',\n",
    "'qu':'Quechua','rm':'Romansh','ro':'Romanian; Moldavian; Moldovan','rn':'Rundi','ru':'Russian','sg':'Sango','sa':'Sanskrit',\n",
    "'si':'Sinhala; Sinhalese','sk':'Slovak','sk':'Slovak','sl':'Slovenian','se':'Northern Sami','sm':'Samoan','sn':'Shona','sd':'Sindhi',\n",
    "'so':'Somali','st':'Sotho-Southern','es':'Spanish; Castilian','sq':'Albanian','sc':'Sardinian','sr':'Serbian','ss':'Swati',\n",
    "'su':'Sundanese','sw':'Swahili','sv':'Swedish','ty':'Tahitian','ta':'Tamil','tt':'Tatar','te':'Telugu','tg':'Tajik','tl':'Tagalog',\n",
    "'th':'Thai','bo':'Tibetan','ti':'Tigrinya','to':'Tonga (Tonga Islands)','tn':'Tswana','ts':'Tsonga','tk':'Turkmen','tr':'Turkish',\n",
    "'tw':'Twi','ug':'Uighur; Uyghur','uk':'Ukrainian','ur':'Urdu','uz':'Uzbek','ve':'Venda','vi':'Vietnamese','vo':'Volapük','cy':'Welsh',\n",
    "'wa':'Walloon','wo':'Wolof','xh':'Xhosa','yi':'Yiddish','yo':'Yoruba','za':'Zhuang; Chuang','zh':'Chinese','zu':'Zulu'}"
   ]
  },
  {
   "cell_type": "code",
   "execution_count": 9,
   "id": "32d30143",
   "metadata": {},
   "outputs": [
    {
     "data": {
      "text/plain": [
       "English                          755572\n",
       "Spanish; Castilian                25660\n",
       "French                            25555\n",
       "German                             8539\n",
       "Italian                            4275\n",
       "Portuguese                         3562\n",
       "Romanian; Moldavian; Moldovan      3358\n",
       "Korean                             2414\n",
       "Dutch; Flemish                     2070\n",
       "Tagalog                            1605\n",
       "Russian                            1448\n",
       "Somali                             1383\n",
       "Afrikaans                          1374\n",
       "Japanese                           1151\n",
       "Catalan; Valencian                 1060\n",
       "Czech                               750\n",
       "Swedish                             614\n",
       "Danish                              584\n",
       "Norwegian                           501\n",
       "Polish                              474\n",
       "Croatian                            370\n",
       "Hungarian                           306\n",
       "Swahili                             292\n",
       "Welsh                               255\n",
       "Finnish                             248\n",
       "Vietnamese                          188\n",
       "Indonesian                          169\n",
       "Estonian                            156\n",
       "Turkish                             126\n",
       "Slovenian                           122\n",
       "Slovak                              110\n",
       "Hebrew                               66\n",
       "Greek-Modern (1453-)                 39\n",
       "Arabic                               25\n",
       "Thai                                 21\n",
       "Bulgarian                            15\n",
       "Lithuanian                           15\n",
       "Albanian                             15\n",
       "Latvian                              11\n",
       "Ukrainian                             6\n",
       "Macedonian                            5\n",
       "Urdu                                  3\n",
       "Persian                               1\n",
       "Name: language, dtype: int64"
      ]
     },
     "execution_count": 9,
     "metadata": {},
     "output_type": "execute_result"
    }
   ],
   "source": [
    "review_lang[\"language\"].map(language_short_name).value_counts()"
   ]
  },
  {
   "cell_type": "code",
   "execution_count": 26,
   "id": "e0d58a23",
   "metadata": {},
   "outputs": [],
   "source": [
    "#review_lang[\"language\"].map(language_short_name).value_counts().values\n",
    "lang_df = pd.DataFrame(data=review_lang[\"language\"].map(language_short_name).value_counts().values, index = review_lang[\"language\"].map(language_short_name).value_counts().index, columns = [\"count\"])"
   ]
  },
  {
   "cell_type": "code",
   "execution_count": 11,
   "id": "542d688c",
   "metadata": {},
   "outputs": [
    {
     "data": {
      "text/html": [
       "<div>\n",
       "<style scoped>\n",
       "    .dataframe tbody tr th:only-of-type {\n",
       "        vertical-align: middle;\n",
       "    }\n",
       "\n",
       "    .dataframe tbody tr th {\n",
       "        vertical-align: top;\n",
       "    }\n",
       "\n",
       "    .dataframe thead th {\n",
       "        text-align: right;\n",
       "    }\n",
       "</style>\n",
       "<table border=\"1\" class=\"dataframe\">\n",
       "  <thead>\n",
       "    <tr style=\"text-align: right;\">\n",
       "      <th></th>\n",
       "      <th>count</th>\n",
       "    </tr>\n",
       "  </thead>\n",
       "  <tbody>\n",
       "    <tr>\n",
       "      <th>English</th>\n",
       "      <td>755572</td>\n",
       "    </tr>\n",
       "    <tr>\n",
       "      <th>Spanish; Castilian</th>\n",
       "      <td>25660</td>\n",
       "    </tr>\n",
       "    <tr>\n",
       "      <th>French</th>\n",
       "      <td>25555</td>\n",
       "    </tr>\n",
       "    <tr>\n",
       "      <th>German</th>\n",
       "      <td>8539</td>\n",
       "    </tr>\n",
       "    <tr>\n",
       "      <th>Italian</th>\n",
       "      <td>4275</td>\n",
       "    </tr>\n",
       "    <tr>\n",
       "      <th>Portuguese</th>\n",
       "      <td>3562</td>\n",
       "    </tr>\n",
       "    <tr>\n",
       "      <th>Romanian; Moldavian; Moldovan</th>\n",
       "      <td>3358</td>\n",
       "    </tr>\n",
       "    <tr>\n",
       "      <th>Korean</th>\n",
       "      <td>2414</td>\n",
       "    </tr>\n",
       "    <tr>\n",
       "      <th>Dutch; Flemish</th>\n",
       "      <td>2070</td>\n",
       "    </tr>\n",
       "    <tr>\n",
       "      <th>Tagalog</th>\n",
       "      <td>1605</td>\n",
       "    </tr>\n",
       "    <tr>\n",
       "      <th>Russian</th>\n",
       "      <td>1448</td>\n",
       "    </tr>\n",
       "    <tr>\n",
       "      <th>Somali</th>\n",
       "      <td>1383</td>\n",
       "    </tr>\n",
       "    <tr>\n",
       "      <th>Afrikaans</th>\n",
       "      <td>1374</td>\n",
       "    </tr>\n",
       "    <tr>\n",
       "      <th>Japanese</th>\n",
       "      <td>1151</td>\n",
       "    </tr>\n",
       "    <tr>\n",
       "      <th>Catalan; Valencian</th>\n",
       "      <td>1060</td>\n",
       "    </tr>\n",
       "    <tr>\n",
       "      <th>Czech</th>\n",
       "      <td>750</td>\n",
       "    </tr>\n",
       "    <tr>\n",
       "      <th>Swedish</th>\n",
       "      <td>614</td>\n",
       "    </tr>\n",
       "    <tr>\n",
       "      <th>Danish</th>\n",
       "      <td>584</td>\n",
       "    </tr>\n",
       "    <tr>\n",
       "      <th>Norwegian</th>\n",
       "      <td>501</td>\n",
       "    </tr>\n",
       "    <tr>\n",
       "      <th>Polish</th>\n",
       "      <td>474</td>\n",
       "    </tr>\n",
       "    <tr>\n",
       "      <th>Croatian</th>\n",
       "      <td>370</td>\n",
       "    </tr>\n",
       "    <tr>\n",
       "      <th>Hungarian</th>\n",
       "      <td>306</td>\n",
       "    </tr>\n",
       "    <tr>\n",
       "      <th>Swahili</th>\n",
       "      <td>292</td>\n",
       "    </tr>\n",
       "    <tr>\n",
       "      <th>Welsh</th>\n",
       "      <td>255</td>\n",
       "    </tr>\n",
       "    <tr>\n",
       "      <th>Finnish</th>\n",
       "      <td>248</td>\n",
       "    </tr>\n",
       "    <tr>\n",
       "      <th>Vietnamese</th>\n",
       "      <td>188</td>\n",
       "    </tr>\n",
       "    <tr>\n",
       "      <th>Indonesian</th>\n",
       "      <td>169</td>\n",
       "    </tr>\n",
       "    <tr>\n",
       "      <th>Estonian</th>\n",
       "      <td>156</td>\n",
       "    </tr>\n",
       "    <tr>\n",
       "      <th>Turkish</th>\n",
       "      <td>126</td>\n",
       "    </tr>\n",
       "    <tr>\n",
       "      <th>Slovenian</th>\n",
       "      <td>122</td>\n",
       "    </tr>\n",
       "    <tr>\n",
       "      <th>Slovak</th>\n",
       "      <td>110</td>\n",
       "    </tr>\n",
       "    <tr>\n",
       "      <th>Hebrew</th>\n",
       "      <td>66</td>\n",
       "    </tr>\n",
       "    <tr>\n",
       "      <th>Greek-Modern (1453-)</th>\n",
       "      <td>39</td>\n",
       "    </tr>\n",
       "    <tr>\n",
       "      <th>Arabic</th>\n",
       "      <td>25</td>\n",
       "    </tr>\n",
       "    <tr>\n",
       "      <th>Thai</th>\n",
       "      <td>21</td>\n",
       "    </tr>\n",
       "    <tr>\n",
       "      <th>Bulgarian</th>\n",
       "      <td>15</td>\n",
       "    </tr>\n",
       "    <tr>\n",
       "      <th>Lithuanian</th>\n",
       "      <td>15</td>\n",
       "    </tr>\n",
       "    <tr>\n",
       "      <th>Albanian</th>\n",
       "      <td>15</td>\n",
       "    </tr>\n",
       "    <tr>\n",
       "      <th>Latvian</th>\n",
       "      <td>11</td>\n",
       "    </tr>\n",
       "    <tr>\n",
       "      <th>Ukrainian</th>\n",
       "      <td>6</td>\n",
       "    </tr>\n",
       "    <tr>\n",
       "      <th>Macedonian</th>\n",
       "      <td>5</td>\n",
       "    </tr>\n",
       "    <tr>\n",
       "      <th>Urdu</th>\n",
       "      <td>3</td>\n",
       "    </tr>\n",
       "    <tr>\n",
       "      <th>Persian</th>\n",
       "      <td>1</td>\n",
       "    </tr>\n",
       "  </tbody>\n",
       "</table>\n",
       "</div>"
      ],
      "text/plain": [
       "                                count\n",
       "English                        755572\n",
       "Spanish; Castilian              25660\n",
       "French                          25555\n",
       "German                           8539\n",
       "Italian                          4275\n",
       "Portuguese                       3562\n",
       "Romanian; Moldavian; Moldovan    3358\n",
       "Korean                           2414\n",
       "Dutch; Flemish                   2070\n",
       "Tagalog                          1605\n",
       "Russian                          1448\n",
       "Somali                           1383\n",
       "Afrikaans                        1374\n",
       "Japanese                         1151\n",
       "Catalan; Valencian               1060\n",
       "Czech                             750\n",
       "Swedish                           614\n",
       "Danish                            584\n",
       "Norwegian                         501\n",
       "Polish                            474\n",
       "Croatian                          370\n",
       "Hungarian                         306\n",
       "Swahili                           292\n",
       "Welsh                             255\n",
       "Finnish                           248\n",
       "Vietnamese                        188\n",
       "Indonesian                        169\n",
       "Estonian                          156\n",
       "Turkish                           126\n",
       "Slovenian                         122\n",
       "Slovak                            110\n",
       "Hebrew                             66\n",
       "Greek-Modern (1453-)               39\n",
       "Arabic                             25\n",
       "Thai                               21\n",
       "Bulgarian                          15\n",
       "Lithuanian                         15\n",
       "Albanian                           15\n",
       "Latvian                            11\n",
       "Ukrainian                           6\n",
       "Macedonian                          5\n",
       "Urdu                                3\n",
       "Persian                             1"
      ]
     },
     "execution_count": 11,
     "metadata": {},
     "output_type": "execute_result"
    }
   ],
   "source": [
    "lang_df"
   ]
  },
  {
   "cell_type": "code",
   "execution_count": 27,
   "id": "1f213631",
   "metadata": {},
   "outputs": [
    {
     "data": {
      "text/plain": [
       "<AxesSubplot:ylabel='count'>"
      ]
     },
     "execution_count": 27,
     "metadata": {},
     "output_type": "execute_result"
    },
    {
     "data": {
      "image/png": "[encoded data removed]",
      "text/plain": [
       "<Figure size 576x576 with 1 Axes>"
      ]
     },
     "metadata": {},
     "output_type": "display_data"
    }
   ],
   "source": [
    "lang_df.head(6).plot.pie(y=0, figsize=(8,8), autopct='%1.1f%%',)#[review_df[\"language\"] == \"en\"]"
   ]
  },
  {
   "cell_type": "code",
   "execution_count": 15,
   "id": "3ca5a44f",
   "metadata": {},
   "outputs": [],
   "source": [
    "review_lang = pd.read_csv(\"reviews_language.csv\")"
   ]
  },
  {
   "cell_type": "code",
   "execution_count": 16,
   "id": "025c14c6",
   "metadata": {},
   "outputs": [
    {
     "data": {
      "text/plain": [
       "English                          1029218\n",
       "French                             12012\n",
       "Spanish; Castilian                  8670\n",
       "German                              6301\n",
       "Romanian; Moldavian; Moldovan       5045\n",
       "Korean                              4975\n",
       "Tagalog                             2015\n",
       "Afrikaans                           1892\n",
       "Italian                             1804\n",
       "Portuguese                          1686\n",
       "Somali                              1535\n",
       "Japanese                            1379\n",
       "Dutch; Flemish                      1120\n",
       "Catalan; Valencian                  1014\n",
       "Russian                              954\n",
       "Czech                                929\n",
       "Swedish                              672\n",
       "Norwegian                            626\n",
       "Polish                               551\n",
       "Croatian                             515\n",
       "Danish                               418\n",
       "Swahili                              393\n",
       "Hungarian                            347\n",
       "Welsh                                290\n",
       "Vietnamese                           239\n",
       "Indonesian                           231\n",
       "Finnish                              228\n",
       "Estonian                             228\n",
       "Slovenian                            176\n",
       "Turkish                              113\n",
       "Slovak                               107\n",
       "Hebrew                                36\n",
       "Arabic                                31\n",
       "Albanian                              28\n",
       "Bulgarian                             13\n",
       "Greek-Modern (1453-)                  13\n",
       "Lithuanian                            13\n",
       "Latvian                               12\n",
       "Thai                                  10\n",
       "Hindi                                  2\n",
       "Telugu                                 1\n",
       "Macedonian                             1\n",
       "Urdu                                   1\n",
       "Ukrainian                              1\n",
       "Name: language, dtype: int64"
      ]
     },
     "execution_count": 16,
     "metadata": {},
     "output_type": "execute_result"
    }
   ],
   "source": [
    "review_lang[\"language\"].map(language_short_name).value_counts()"
   ]
  },
  {
   "cell_type": "code",
   "execution_count": 61,
   "id": "8eaefc41",
   "metadata": {},
   "outputs": [],
   "source": [
    "comments = review_lang[review_lang[\"language\"].isin([\"es\",\"fr\",\"de\",\"it\",\"pt\",\"ro\",\"zh-cn\",\"ko\",\"nl\"])][\"comments\"]"
   ]
  },
  {
   "cell_type": "code",
   "execution_count": 19,
   "id": "b4efd718",
   "metadata": {},
   "outputs": [
    {
     "data": {
      "text/plain": [
       "<AxesSubplot:ylabel='count'>"
      ]
     },
     "execution_count": 19,
     "metadata": {},
     "output_type": "execute_result"
    },
    {
     "data": {
      "image/png": "[encoded data removed]",
      "text/plain": [
       "<Figure size 576x576 with 1 Axes>"
      ]
     },
     "metadata": {},
     "output_type": "display_data"
    }
   ],
   "source": [
    "lang_df.head(6).plot.pie(y=0, figsize=(8,8), autopct='%1.1f%%',)#[review_df[\"language\"] == \"en\"]"
   ]
  },
  {
   "cell_type": "code",
   "execution_count": 5,
   "id": "05f6ac9d",
   "metadata": {},
   "outputs": [],
   "source": [
    "from googletrans import Translator\n",
    "translator = Translator()\n",
    "\n",
    "\n",
    "def trans(text):\n",
    "    try:\n",
    "        translate_text = translator.translate(text).text\n",
    "    except:\n",
    "        return text\n",
    "    return translate_text"
   ]
  },
  {
   "cell_type": "code",
   "execution_count": null,
   "id": "f840fa65",
   "metadata": {},
   "outputs": [],
   "source": [
    "review_lang[review_lang[\"language\"].isin([\"es\",\"fr\",\"de\",\"it\",\"pt\",\"ro\",\"zh-cn\",\"ko\",\"nl\"])][\"comments\"].apply(trans)"
   ]
  },
  {
   "cell_type": "code",
   "execution_count": 67,
   "id": "e55e1355",
   "metadata": {},
   "outputs": [
    {
     "data": {
      "text/plain": [
       "'Our stay of three nights'"
      ]
     },
     "execution_count": 67,
     "metadata": {},
     "output_type": "execute_result"
    }
   ],
   "source": [
    "trans(\"Notre séjour de trois nuits\")"
   ]
  },
  {
   "cell_type": "code",
   "execution_count": 6,
   "id": "a521aee4",
   "metadata": {},
   "outputs": [],
   "source": [
    "review_lang[\"Translated_Comments\"] = review_lang[review_lang[\"language\"].isin([\"nl\"])][\"comments\"].apply(trans)"
   ]
  },
  {
   "cell_type": "code",
   "execution_count": 9,
   "id": "78a8d74d",
   "metadata": {},
   "outputs": [
    {
     "data": {
      "text/plain": [
       "846655"
      ]
     },
     "execution_count": 9,
     "metadata": {},
     "output_type": "execute_result"
    }
   ],
   "source": [
    "review_lang[\"Translated_Comments\"].isnull().sum()"
   ]
  },
  {
   "cell_type": "code",
   "execution_count": 10,
   "id": "a9b6c216",
   "metadata": {},
   "outputs": [
    {
     "data": {
      "text/plain": [
       "2070"
      ]
     },
     "execution_count": 10,
     "metadata": {},
     "output_type": "execute_result"
    }
   ],
   "source": [
    "len(review_lang[\"Translated_Comments\"]) - review_lang[\"Translated_Comments\"].isnull().sum()"
   ]
  },
  {
   "cell_type": "code",
   "execution_count": 11,
   "id": "d3553d28",
   "metadata": {},
   "outputs": [],
   "source": [
    "review_lang[\"Translated_Comments\"] = review_lang[review_lang[\"language\"].isin([\"es\",\"fr\",\"de\",\"it\",\"pt\"])][\"comments\"].apply(trans)"
   ]
  },
  {
   "cell_type": "code",
   "execution_count": 12,
   "id": "dc0b1830",
   "metadata": {},
   "outputs": [
    {
     "data": {
      "text/plain": [
       "848725"
      ]
     },
     "execution_count": 12,
     "metadata": {},
     "output_type": "execute_result"
    }
   ],
   "source": [
    "len(review_lang[\"Translated_Comments\"])"
   ]
  },
  {
   "cell_type": "code",
   "execution_count": 13,
   "id": "c00af89a",
   "metadata": {},
   "outputs": [
    {
     "data": {
      "text/plain": [
       "781134"
      ]
     },
     "execution_count": 13,
     "metadata": {},
     "output_type": "execute_result"
    }
   ],
   "source": [
    "review_lang[\"Translated_Comments\"].isnull().sum()"
   ]
  },
  {
   "cell_type": "code",
   "execution_count": 14,
   "id": "bb0f864e",
   "metadata": {},
   "outputs": [],
   "source": [
    "review_lang.to_csv(\"review_translated.csv\")"
   ]
  },
  {
   "cell_type": "code",
   "execution_count": 7,
   "id": "5be9e56f",
   "metadata": {},
   "outputs": [],
   "source": [
    "from nltk.sentiment.vader import SentimentIntensityAnalyzer"
   ]
  },
  {
   "cell_type": "code",
   "execution_count": 8,
   "id": "d27a5dfe",
   "metadata": {},
   "outputs": [],
   "source": [
    "vader_polarity_compound = lambda s: (SentimentIntensityAnalyzer().polarity_scores(s))['compound']"
   ]
  },
  {
   "cell_type": "code",
   "execution_count": 9,
   "id": "7bd38f66",
   "metadata": {},
   "outputs": [
    {
     "name": "stderr",
     "output_type": "stream",
     "text": [
      "[nltk_data] Downloading package vader_lexicon to\n",
      "[nltk_data]     /Users/manalshah/nltk_data...\n",
      "[nltk_data]   Package vader_lexicon is already up-to-date!\n"
     ]
    },
    {
     "data": {
      "text/plain": [
       "True"
      ]
     },
     "execution_count": 9,
     "metadata": {},
     "output_type": "execute_result"
    }
   ],
   "source": [
    "import nltk\n",
    "nltk.download('vader_lexicon')"
   ]
  },
  {
   "cell_type": "code",
   "execution_count": 29,
   "id": "1919e9f1",
   "metadata": {},
   "outputs": [
    {
     "data": {
      "text/plain": [
       "True"
      ]
     },
     "execution_count": 29,
     "metadata": {},
     "output_type": "execute_result"
    }
   ],
   "source": [
    "str(review_lang[\"Translated_Comments\"][1]) == 'nan'"
   ]
  },
  {
   "cell_type": "code",
   "execution_count": 41,
   "id": "037ab93a",
   "metadata": {},
   "outputs": [
    {
     "data": {
      "text/html": [
       "<div>\n",
       "<style scoped>\n",
       "    .dataframe tbody tr th:only-of-type {\n",
       "        vertical-align: middle;\n",
       "    }\n",
       "\n",
       "    .dataframe tbody tr th {\n",
       "        vertical-align: top;\n",
       "    }\n",
       "\n",
       "    .dataframe thead th {\n",
       "        text-align: right;\n",
       "    }\n",
       "</style>\n",
       "<table border=\"1\" class=\"dataframe\">\n",
       "  <thead>\n",
       "    <tr style=\"text-align: right;\">\n",
       "      <th></th>\n",
       "      <th>Unnamed: 0</th>\n",
       "      <th>listing_id</th>\n",
       "      <th>id</th>\n",
       "      <th>date</th>\n",
       "      <th>reviewer_id</th>\n",
       "      <th>reviewer_name</th>\n",
       "      <th>comments</th>\n",
       "      <th>language</th>\n",
       "      <th>Translated_Comments</th>\n",
       "    </tr>\n",
       "  </thead>\n",
       "  <tbody>\n",
       "    <tr>\n",
       "      <th>0</th>\n",
       "      <td>0</td>\n",
       "      <td>2595</td>\n",
       "      <td>17857</td>\n",
       "      <td>2009-11-21</td>\n",
       "      <td>50679</td>\n",
       "      <td>Jean</td>\n",
       "      <td>Notre séjour de trois nuits. . Nous avons appr...</td>\n",
       "      <td>fr</td>\n",
       "      <td>Our stay of three nights..We enjoy the apartme...</td>\n",
       "    </tr>\n",
       "    <tr>\n",
       "      <th>21</th>\n",
       "      <td>21</td>\n",
       "      <td>2595</td>\n",
       "      <td>194307810</td>\n",
       "      <td>2017-09-16</td>\n",
       "      <td>81450805</td>\n",
       "      <td>Marina</td>\n",
       "      <td>Tiene una ubicación excelente. Buen equipamien...</td>\n",
       "      <td>es</td>\n",
       "      <td>It has an excellent location.Good equipment of...</td>\n",
       "    </tr>\n",
       "    <tr>\n",
       "      <th>33</th>\n",
       "      <td>33</td>\n",
       "      <td>2595</td>\n",
       "      <td>283276097</td>\n",
       "      <td>2018-06-29</td>\n",
       "      <td>51923495</td>\n",
       "      <td>Fabiola</td>\n",
       "      <td>Jennifer es un anfitrión increíble. Siempre es...</td>\n",
       "      <td>es</td>\n",
       "      <td>Jennifer is an incredible host.She was always ...</td>\n",
       "    </tr>\n",
       "    <tr>\n",
       "      <th>53</th>\n",
       "      <td>53</td>\n",
       "      <td>3831</td>\n",
       "      <td>25015185</td>\n",
       "      <td>2015-01-05</td>\n",
       "      <td>22720105</td>\n",
       "      <td>Olivier</td>\n",
       "      <td>Lisa était sympa, toujours prête à aider. L'ét...</td>\n",
       "      <td>fr</td>\n",
       "      <td>Lisa was nice, always ready to help.The floor ...</td>\n",
       "    </tr>\n",
       "    <tr>\n",
       "      <th>58</th>\n",
       "      <td>58</td>\n",
       "      <td>3831</td>\n",
       "      <td>42307078</td>\n",
       "      <td>2015-08-12</td>\n",
       "      <td>38246619</td>\n",
       "      <td>Alain</td>\n",
       "      <td>Bien que la chambre soit défraichi, nous avons...</td>\n",
       "      <td>fr</td>\n",
       "      <td>Although the room is faded, we slept well and ...</td>\n",
       "    </tr>\n",
       "    <tr>\n",
       "      <th>...</th>\n",
       "      <td>...</td>\n",
       "      <td>...</td>\n",
       "      <td>...</td>\n",
       "      <td>...</td>\n",
       "      <td>...</td>\n",
       "      <td>...</td>\n",
       "      <td>...</td>\n",
       "      <td>...</td>\n",
       "      <td>...</td>\n",
       "    </tr>\n",
       "    <tr>\n",
       "      <th>848552</th>\n",
       "      <td>848552</td>\n",
       "      <td>51595857</td>\n",
       "      <td>436943735656666610</td>\n",
       "      <td>2021-08-25</td>\n",
       "      <td>278585166</td>\n",
       "      <td>Luis Uriel</td>\n",
       "      <td>la atención de Jay es increíble, te recibe y t...</td>\n",
       "      <td>es</td>\n",
       "      <td>Jay's attention is amazing, welcomes you and t...</td>\n",
       "    </tr>\n",
       "    <tr>\n",
       "      <th>848566</th>\n",
       "      <td>848566</td>\n",
       "      <td>51603968</td>\n",
       "      <td>438306430404845516</td>\n",
       "      <td>2021-08-27</td>\n",
       "      <td>115071442</td>\n",
       "      <td>Johana</td>\n",
       "      <td>Súper organizado… limpieza excelente.. ubicaci...</td>\n",
       "      <td>es</td>\n",
       "      <td>Super organized ... Excellent cleaning .. Loca...</td>\n",
       "    </tr>\n",
       "    <tr>\n",
       "      <th>848571</th>\n",
       "      <td>848571</td>\n",
       "      <td>51614134</td>\n",
       "      <td>435417639314945525</td>\n",
       "      <td>2021-08-23</td>\n",
       "      <td>370001008</td>\n",
       "      <td>Carlos William</td>\n",
       "      <td>no lo piense en reserva la habitación impecabl...</td>\n",
       "      <td>es</td>\n",
       "      <td>do not think about it in reserve the impeccabl...</td>\n",
       "    </tr>\n",
       "    <tr>\n",
       "      <th>848593</th>\n",
       "      <td>848593</td>\n",
       "      <td>51623333</td>\n",
       "      <td>438295711190566493</td>\n",
       "      <td>2021-08-27</td>\n",
       "      <td>30936457</td>\n",
       "      <td>Kyle</td>\n",
       "      <td>Cute new studio in a nice residential area!</td>\n",
       "      <td>it</td>\n",
       "      <td>Cute new studio in a nice residential area!</td>\n",
       "    </tr>\n",
       "    <tr>\n",
       "      <th>848684</th>\n",
       "      <td>848684</td>\n",
       "      <td>51769371</td>\n",
       "      <td>434745168866255551</td>\n",
       "      <td>2021-08-22</td>\n",
       "      <td>370001008</td>\n",
       "      <td>Carlos William</td>\n",
       "      <td>para mi uno de los airbnb que estado  la atenc...</td>\n",
       "      <td>es</td>\n",
       "      <td>for me one of the Airbnb who was attention, I ...</td>\n",
       "    </tr>\n",
       "  </tbody>\n",
       "</table>\n",
       "<p>67591 rows × 9 columns</p>\n",
       "</div>"
      ],
      "text/plain": [
       "        Unnamed: 0  listing_id                  id        date  reviewer_id  \\\n",
       "0                0        2595               17857  2009-11-21        50679   \n",
       "21              21        2595           194307810  2017-09-16     81450805   \n",
       "33              33        2595           283276097  2018-06-29     51923495   \n",
       "53              53        3831            25015185  2015-01-05     22720105   \n",
       "58              58        3831            42307078  2015-08-12     38246619   \n",
       "...            ...         ...                 ...         ...          ...   \n",
       "848552      848552    51595857  436943735656666610  2021-08-25    278585166   \n",
       "848566      848566    51603968  438306430404845516  2021-08-27    115071442   \n",
       "848571      848571    51614134  435417639314945525  2021-08-23    370001008   \n",
       "848593      848593    51623333  438295711190566493  2021-08-27     30936457   \n",
       "848684      848684    51769371  434745168866255551  2021-08-22    370001008   \n",
       "\n",
       "         reviewer_name                                           comments  \\\n",
       "0                 Jean  Notre séjour de trois nuits. . Nous avons appr...   \n",
       "21              Marina  Tiene una ubicación excelente. Buen equipamien...   \n",
       "33             Fabiola  Jennifer es un anfitrión increíble. Siempre es...   \n",
       "53             Olivier  Lisa était sympa, toujours prête à aider. L'ét...   \n",
       "58               Alain  Bien que la chambre soit défraichi, nous avons...   \n",
       "...                ...                                                ...   \n",
       "848552      Luis Uriel  la atención de Jay es increíble, te recibe y t...   \n",
       "848566          Johana  Súper organizado… limpieza excelente.. ubicaci...   \n",
       "848571  Carlos William  no lo piense en reserva la habitación impecabl...   \n",
       "848593            Kyle        Cute new studio in a nice residential area!   \n",
       "848684  Carlos William  para mi uno de los airbnb que estado  la atenc...   \n",
       "\n",
       "       language                                Translated_Comments  \n",
       "0            fr  Our stay of three nights..We enjoy the apartme...  \n",
       "21           es  It has an excellent location.Good equipment of...  \n",
       "33           es  Jennifer is an incredible host.She was always ...  \n",
       "53           fr  Lisa was nice, always ready to help.The floor ...  \n",
       "58           fr  Although the room is faded, we slept well and ...  \n",
       "...         ...                                                ...  \n",
       "848552       es  Jay's attention is amazing, welcomes you and t...  \n",
       "848566       es  Super organized ... Excellent cleaning .. Loca...  \n",
       "848571       es  do not think about it in reserve the impeccabl...  \n",
       "848593       it        Cute new studio in a nice residential area!  \n",
       "848684       es  for me one of the Airbnb who was attention, I ...  \n",
       "\n",
       "[67591 rows x 9 columns]"
      ]
     },
     "execution_count": 41,
     "metadata": {},
     "output_type": "execute_result"
    }
   ],
   "source": [
    "review_lang[~review_lang[\"Translated_Comments\"].isna()]"
   ]
  },
  {
   "cell_type": "code",
   "execution_count": 10,
   "id": "51a9bd80",
   "metadata": {},
   "outputs": [],
   "source": [
    "review_lang['polarity'] = review_lang[~review_lang[\"Translated_Comments\"].isna()][\"Translated_Comments\"].map(vader_polarity_compound)"
   ]
  },
  {
   "cell_type": "code",
   "execution_count": 54,
   "id": "6f57ba44",
   "metadata": {},
   "outputs": [
    {
     "data": {
      "text/html": [
       "<div>\n",
       "<style scoped>\n",
       "    .dataframe tbody tr th:only-of-type {\n",
       "        vertical-align: middle;\n",
       "    }\n",
       "\n",
       "    .dataframe tbody tr th {\n",
       "        vertical-align: top;\n",
       "    }\n",
       "\n",
       "    .dataframe thead th {\n",
       "        text-align: right;\n",
       "    }\n",
       "</style>\n",
       "<table border=\"1\" class=\"dataframe\">\n",
       "  <thead>\n",
       "    <tr style=\"text-align: right;\">\n",
       "      <th></th>\n",
       "      <th>Unnamed: 0</th>\n",
       "      <th>listing_id</th>\n",
       "      <th>id</th>\n",
       "      <th>date</th>\n",
       "      <th>reviewer_id</th>\n",
       "      <th>reviewer_name</th>\n",
       "      <th>comments</th>\n",
       "      <th>language</th>\n",
       "      <th>Translated_Comments</th>\n",
       "      <th>polarity</th>\n",
       "    </tr>\n",
       "  </thead>\n",
       "  <tbody>\n",
       "    <tr>\n",
       "      <th>0</th>\n",
       "      <td>0</td>\n",
       "      <td>2595</td>\n",
       "      <td>17857</td>\n",
       "      <td>2009-11-21</td>\n",
       "      <td>50679</td>\n",
       "      <td>Jean</td>\n",
       "      <td>Notre séjour de trois nuits. . Nous avons appr...</td>\n",
       "      <td>fr</td>\n",
       "      <td>Our stay of three nights..We enjoy the apartme...</td>\n",
       "      <td>0.8887</td>\n",
       "    </tr>\n",
       "    <tr>\n",
       "      <th>21</th>\n",
       "      <td>21</td>\n",
       "      <td>2595</td>\n",
       "      <td>194307810</td>\n",
       "      <td>2017-09-16</td>\n",
       "      <td>81450805</td>\n",
       "      <td>Marina</td>\n",
       "      <td>Tiene una ubicación excelente. Buen equipamien...</td>\n",
       "      <td>es</td>\n",
       "      <td>It has an excellent location.Good equipment of...</td>\n",
       "      <td>0.5719</td>\n",
       "    </tr>\n",
       "    <tr>\n",
       "      <th>33</th>\n",
       "      <td>33</td>\n",
       "      <td>2595</td>\n",
       "      <td>283276097</td>\n",
       "      <td>2018-06-29</td>\n",
       "      <td>51923495</td>\n",
       "      <td>Fabiola</td>\n",
       "      <td>Jennifer es un anfitrión increíble. Siempre es...</td>\n",
       "      <td>es</td>\n",
       "      <td>Jennifer is an incredible host.She was always ...</td>\n",
       "      <td>0.9147</td>\n",
       "    </tr>\n",
       "    <tr>\n",
       "      <th>53</th>\n",
       "      <td>53</td>\n",
       "      <td>3831</td>\n",
       "      <td>25015185</td>\n",
       "      <td>2015-01-05</td>\n",
       "      <td>22720105</td>\n",
       "      <td>Olivier</td>\n",
       "      <td>Lisa était sympa, toujours prête à aider. L'ét...</td>\n",
       "      <td>fr</td>\n",
       "      <td>Lisa was nice, always ready to help.The floor ...</td>\n",
       "      <td>0.8957</td>\n",
       "    </tr>\n",
       "    <tr>\n",
       "      <th>58</th>\n",
       "      <td>58</td>\n",
       "      <td>3831</td>\n",
       "      <td>42307078</td>\n",
       "      <td>2015-08-12</td>\n",
       "      <td>38246619</td>\n",
       "      <td>Alain</td>\n",
       "      <td>Bien que la chambre soit défraichi, nous avons...</td>\n",
       "      <td>fr</td>\n",
       "      <td>Although the room is faded, we slept well and ...</td>\n",
       "      <td>0.4404</td>\n",
       "    </tr>\n",
       "    <tr>\n",
       "      <th>...</th>\n",
       "      <td>...</td>\n",
       "      <td>...</td>\n",
       "      <td>...</td>\n",
       "      <td>...</td>\n",
       "      <td>...</td>\n",
       "      <td>...</td>\n",
       "      <td>...</td>\n",
       "      <td>...</td>\n",
       "      <td>...</td>\n",
       "      <td>...</td>\n",
       "    </tr>\n",
       "    <tr>\n",
       "      <th>848552</th>\n",
       "      <td>848552</td>\n",
       "      <td>51595857</td>\n",
       "      <td>436943735656666610</td>\n",
       "      <td>2021-08-25</td>\n",
       "      <td>278585166</td>\n",
       "      <td>Luis Uriel</td>\n",
       "      <td>la atención de Jay es increíble, te recibe y t...</td>\n",
       "      <td>es</td>\n",
       "      <td>Jay's attention is amazing, welcomes you and t...</td>\n",
       "      <td>0.9459</td>\n",
       "    </tr>\n",
       "    <tr>\n",
       "      <th>848566</th>\n",
       "      <td>848566</td>\n",
       "      <td>51603968</td>\n",
       "      <td>438306430404845516</td>\n",
       "      <td>2021-08-27</td>\n",
       "      <td>115071442</td>\n",
       "      <td>Johana</td>\n",
       "      <td>Súper organizado… limpieza excelente.. ubicaci...</td>\n",
       "      <td>es</td>\n",
       "      <td>Super organized ... Excellent cleaning .. Loca...</td>\n",
       "      <td>0.9623</td>\n",
       "    </tr>\n",
       "    <tr>\n",
       "      <th>848571</th>\n",
       "      <td>848571</td>\n",
       "      <td>51614134</td>\n",
       "      <td>435417639314945525</td>\n",
       "      <td>2021-08-23</td>\n",
       "      <td>370001008</td>\n",
       "      <td>Carlos William</td>\n",
       "      <td>no lo piense en reserva la habitación impecabl...</td>\n",
       "      <td>es</td>\n",
       "      <td>do not think about it in reserve the impeccabl...</td>\n",
       "      <td>0.6369</td>\n",
       "    </tr>\n",
       "    <tr>\n",
       "      <th>848593</th>\n",
       "      <td>848593</td>\n",
       "      <td>51623333</td>\n",
       "      <td>438295711190566493</td>\n",
       "      <td>2021-08-27</td>\n",
       "      <td>30936457</td>\n",
       "      <td>Kyle</td>\n",
       "      <td>Cute new studio in a nice residential area!</td>\n",
       "      <td>it</td>\n",
       "      <td>Cute new studio in a nice residential area!</td>\n",
       "      <td>0.7263</td>\n",
       "    </tr>\n",
       "    <tr>\n",
       "      <th>848684</th>\n",
       "      <td>848684</td>\n",
       "      <td>51769371</td>\n",
       "      <td>434745168866255551</td>\n",
       "      <td>2021-08-22</td>\n",
       "      <td>370001008</td>\n",
       "      <td>Carlos William</td>\n",
       "      <td>para mi uno de los airbnb que estado  la atenc...</td>\n",
       "      <td>es</td>\n",
       "      <td>for me one of the Airbnb who was attention, I ...</td>\n",
       "      <td>0.9393</td>\n",
       "    </tr>\n",
       "  </tbody>\n",
       "</table>\n",
       "<p>67591 rows × 10 columns</p>\n",
       "</div>"
      ],
      "text/plain": [
       "        Unnamed: 0  listing_id                  id        date  reviewer_id  \\\n",
       "0                0        2595               17857  2009-11-21        50679   \n",
       "21              21        2595           194307810  2017-09-16     81450805   \n",
       "33              33        2595           283276097  2018-06-29     51923495   \n",
       "53              53        3831            25015185  2015-01-05     22720105   \n",
       "58              58        3831            42307078  2015-08-12     38246619   \n",
       "...            ...         ...                 ...         ...          ...   \n",
       "848552      848552    51595857  436943735656666610  2021-08-25    278585166   \n",
       "848566      848566    51603968  438306430404845516  2021-08-27    115071442   \n",
       "848571      848571    51614134  435417639314945525  2021-08-23    370001008   \n",
       "848593      848593    51623333  438295711190566493  2021-08-27     30936457   \n",
       "848684      848684    51769371  434745168866255551  2021-08-22    370001008   \n",
       "\n",
       "         reviewer_name                                           comments  \\\n",
       "0                 Jean  Notre séjour de trois nuits. . Nous avons appr...   \n",
       "21              Marina  Tiene una ubicación excelente. Buen equipamien...   \n",
       "33             Fabiola  Jennifer es un anfitrión increíble. Siempre es...   \n",
       "53             Olivier  Lisa était sympa, toujours prête à aider. L'ét...   \n",
       "58               Alain  Bien que la chambre soit défraichi, nous avons...   \n",
       "...                ...                                                ...   \n",
       "848552      Luis Uriel  la atención de Jay es increíble, te recibe y t...   \n",
       "848566          Johana  Súper organizado… limpieza excelente.. ubicaci...   \n",
       "848571  Carlos William  no lo piense en reserva la habitación impecabl...   \n",
       "848593            Kyle        Cute new studio in a nice residential area!   \n",
       "848684  Carlos William  para mi uno de los airbnb que estado  la atenc...   \n",
       "\n",
       "       language                                Translated_Comments  polarity  \n",
       "0            fr  Our stay of three nights..We enjoy the apartme...    0.8887  \n",
       "21           es  It has an excellent location.Good equipment of...    0.5719  \n",
       "33           es  Jennifer is an incredible host.She was always ...    0.9147  \n",
       "53           fr  Lisa was nice, always ready to help.The floor ...    0.8957  \n",
       "58           fr  Although the room is faded, we slept well and ...    0.4404  \n",
       "...         ...                                                ...       ...  \n",
       "848552       es  Jay's attention is amazing, welcomes you and t...    0.9459  \n",
       "848566       es  Super organized ... Excellent cleaning .. Loca...    0.9623  \n",
       "848571       es  do not think about it in reserve the impeccabl...    0.6369  \n",
       "848593       it        Cute new studio in a nice residential area!    0.7263  \n",
       "848684       es  for me one of the Airbnb who was attention, I ...    0.9393  \n",
       "\n",
       "[67591 rows x 10 columns]"
      ]
     },
     "execution_count": 54,
     "metadata": {},
     "output_type": "execute_result"
    }
   ],
   "source": [
    "review_lang[~review_lang['polarity'].isna()].index"
   ]
  },
  {
   "cell_type": "code",
   "execution_count": 57,
   "id": "8666934b",
   "metadata": {},
   "outputs": [
    {
     "data": {
      "text/plain": [
       "Int64Index([     0,     21,     33,     53,     58,     63,     69,     72,\n",
       "                73,     90,\n",
       "            ...\n",
       "            848402, 848412, 848433, 848446, 848485, 848552, 848566, 848571,\n",
       "            848593, 848684],\n",
       "           dtype='int64', length=67591)"
      ]
     },
     "execution_count": 57,
     "metadata": {},
     "output_type": "execute_result"
    }
   ],
   "source": [
    "review_lang[~review_lang['polarity'].isna()].index"
   ]
  },
  {
   "cell_type": "code",
   "execution_count": 45,
   "id": "d989aa2c",
   "metadata": {},
   "outputs": [
    {
     "data": {
      "text/plain": [
       "67591"
      ]
     },
     "execution_count": 45,
     "metadata": {},
     "output_type": "execute_result"
    }
   ],
   "source": [
    "len(review_lang[\"polarity\"]) - review_lang['polarity'].isna().sum()"
   ]
  },
  {
   "cell_type": "code",
   "execution_count": 4,
   "id": "9e4ce9c9",
   "metadata": {},
   "outputs": [],
   "source": [
    "review_pol = pd.read_csv(\"review_polarity.csv\")"
   ]
  },
  {
   "cell_type": "code",
   "execution_count": 56,
   "id": "448a32fb",
   "metadata": {},
   "outputs": [
    {
     "data": {
      "text/plain": [
       "Int64Index([     2,      3,      4,      5,      6,      7,      8,      9,\n",
       "                10,     11,\n",
       "            ...\n",
       "            848715, 848716, 848717, 848718, 848719, 848720, 848721, 848722,\n",
       "            848723, 848724],\n",
       "           dtype='int64', length=755572)"
      ]
     },
     "execution_count": 56,
     "metadata": {},
     "output_type": "execute_result"
    }
   ],
   "source": [
    "review_pol[~review_pol['polarity'].isna()].index"
   ]
  },
  {
   "cell_type": "code",
   "execution_count": 5,
   "id": "25f729be",
   "metadata": {},
   "outputs": [],
   "source": [
    "review_lang = pd.read_csv(\"review_translated.csv\")"
   ]
  },
  {
   "cell_type": "code",
   "execution_count": 60,
   "id": "2b9ee5f0",
   "metadata": {},
   "outputs": [
    {
     "data": {
      "text/plain": [
       "67591"
      ]
     },
     "execution_count": 60,
     "metadata": {},
     "output_type": "execute_result"
    }
   ],
   "source": [
    "len(set(review_lang[~review_lang['polarity'].isna()].index.tolist()) - set(review_pol[~review_pol['polarity'].isna()].index.tolist()))"
   ]
  },
  {
   "cell_type": "code",
   "execution_count": 61,
   "id": "1c732500",
   "metadata": {},
   "outputs": [
    {
     "data": {
      "text/plain": [
       "0         0.8887\n",
       "1            NaN\n",
       "2            NaN\n",
       "3            NaN\n",
       "4            NaN\n",
       "           ...  \n",
       "848720       NaN\n",
       "848721       NaN\n",
       "848722       NaN\n",
       "848723       NaN\n",
       "848724       NaN\n",
       "Name: polarity, Length: 848725, dtype: float64"
      ]
     },
     "execution_count": 61,
     "metadata": {},
     "output_type": "execute_result"
    }
   ],
   "source": [
    "review_lang[\"polarity\"]"
   ]
  },
  {
   "cell_type": "code",
   "execution_count": null,
   "id": "b2cdd487",
   "metadata": {},
   "outputs": [],
   "source": [
    "rp = review_pol.merge(review_lang[\"polarity\"].to_frame(), how = \"inner\", on = \"polarity\")"
   ]
  },
  {
   "cell_type": "code",
   "execution_count": 16,
   "id": "5ae39e9b",
   "metadata": {},
   "outputs": [
    {
     "data": {
      "text/html": [
       "<div>\n",
       "<style scoped>\n",
       "    .dataframe tbody tr th:only-of-type {\n",
       "        vertical-align: middle;\n",
       "    }\n",
       "\n",
       "    .dataframe tbody tr th {\n",
       "        vertical-align: top;\n",
       "    }\n",
       "\n",
       "    .dataframe thead th {\n",
       "        text-align: right;\n",
       "    }\n",
       "</style>\n",
       "<table border=\"1\" class=\"dataframe\">\n",
       "  <thead>\n",
       "    <tr style=\"text-align: right;\">\n",
       "      <th></th>\n",
       "      <th>Unnamed: 0</th>\n",
       "      <th>listing_id</th>\n",
       "      <th>id</th>\n",
       "      <th>date</th>\n",
       "      <th>reviewer_id</th>\n",
       "      <th>reviewer_name</th>\n",
       "      <th>comments</th>\n",
       "      <th>language</th>\n",
       "      <th>polarity_x</th>\n",
       "      <th>polarity_y</th>\n",
       "    </tr>\n",
       "  </thead>\n",
       "  <tbody>\n",
       "    <tr>\n",
       "      <th>0</th>\n",
       "      <td>0</td>\n",
       "      <td>2595</td>\n",
       "      <td>17857</td>\n",
       "      <td>2009-11-21</td>\n",
       "      <td>50679</td>\n",
       "      <td>Jean</td>\n",
       "      <td>Notre séjour de trois nuits. . Nous avons appr...</td>\n",
       "      <td>fr</td>\n",
       "      <td>NaN</td>\n",
       "      <td>0.8887</td>\n",
       "    </tr>\n",
       "    <tr>\n",
       "      <th>1</th>\n",
       "      <td>1</td>\n",
       "      <td>2595</td>\n",
       "      <td>19176</td>\n",
       "      <td>2009-12-05</td>\n",
       "      <td>53267</td>\n",
       "      <td>Cate</td>\n",
       "      <td>Great experience.</td>\n",
       "      <td>ro</td>\n",
       "      <td>NaN</td>\n",
       "      <td>NaN</td>\n",
       "    </tr>\n",
       "    <tr>\n",
       "      <th>2</th>\n",
       "      <td>2</td>\n",
       "      <td>2595</td>\n",
       "      <td>19760</td>\n",
       "      <td>2009-12-10</td>\n",
       "      <td>38960</td>\n",
       "      <td>Anita</td>\n",
       "      <td>I've stayed with my friend at the Midtown Cast...</td>\n",
       "      <td>en</td>\n",
       "      <td>0.9248</td>\n",
       "      <td>NaN</td>\n",
       "    </tr>\n",
       "    <tr>\n",
       "      <th>3</th>\n",
       "      <td>3</td>\n",
       "      <td>2595</td>\n",
       "      <td>34320</td>\n",
       "      <td>2010-04-09</td>\n",
       "      <td>71130</td>\n",
       "      <td>Kai-Uwe</td>\n",
       "      <td>We've been staying here for about 9 nights, en...</td>\n",
       "      <td>en</td>\n",
       "      <td>0.9229</td>\n",
       "      <td>NaN</td>\n",
       "    </tr>\n",
       "    <tr>\n",
       "      <th>4</th>\n",
       "      <td>4</td>\n",
       "      <td>2595</td>\n",
       "      <td>46312</td>\n",
       "      <td>2010-05-25</td>\n",
       "      <td>117113</td>\n",
       "      <td>Alicia</td>\n",
       "      <td>We had a wonderful stay at Jennifer's charming...</td>\n",
       "      <td>en</td>\n",
       "      <td>0.9464</td>\n",
       "      <td>NaN</td>\n",
       "    </tr>\n",
       "    <tr>\n",
       "      <th>...</th>\n",
       "      <td>...</td>\n",
       "      <td>...</td>\n",
       "      <td>...</td>\n",
       "      <td>...</td>\n",
       "      <td>...</td>\n",
       "      <td>...</td>\n",
       "      <td>...</td>\n",
       "      <td>...</td>\n",
       "      <td>...</td>\n",
       "      <td>...</td>\n",
       "    </tr>\n",
       "    <tr>\n",
       "      <th>848720</th>\n",
       "      <td>848720</td>\n",
       "      <td>51909801</td>\n",
       "      <td>439754058671859318</td>\n",
       "      <td>2021-08-29</td>\n",
       "      <td>210113336</td>\n",
       "      <td>Ari</td>\n",
       "      <td>This was one of the Best hotel experiences I h...</td>\n",
       "      <td>en</td>\n",
       "      <td>0.9960</td>\n",
       "      <td>NaN</td>\n",
       "    </tr>\n",
       "    <tr>\n",
       "      <th>848721</th>\n",
       "      <td>848721</td>\n",
       "      <td>51910059</td>\n",
       "      <td>439796226033211137</td>\n",
       "      <td>2021-08-29</td>\n",
       "      <td>175633805</td>\n",
       "      <td>Leo</td>\n",
       "      <td>The room was exactly as described and was over...</td>\n",
       "      <td>en</td>\n",
       "      <td>0.6588</td>\n",
       "      <td>NaN</td>\n",
       "    </tr>\n",
       "    <tr>\n",
       "      <th>848722</th>\n",
       "      <td>848722</td>\n",
       "      <td>51921047</td>\n",
       "      <td>439769182951927960</td>\n",
       "      <td>2021-08-29</td>\n",
       "      <td>255614539</td>\n",
       "      <td>Niki</td>\n",
       "      <td>Fast response . Easy check in . . Deposit appl...</td>\n",
       "      <td>en</td>\n",
       "      <td>0.7650</td>\n",
       "      <td>NaN</td>\n",
       "    </tr>\n",
       "    <tr>\n",
       "      <th>848723</th>\n",
       "      <td>848723</td>\n",
       "      <td>51926089</td>\n",
       "      <td>441249378414275416</td>\n",
       "      <td>2021-08-31</td>\n",
       "      <td>419619884</td>\n",
       "      <td>Ingrid</td>\n",
       "      <td>Amazing location and place! You will love it !</td>\n",
       "      <td>en</td>\n",
       "      <td>0.8619</td>\n",
       "      <td>NaN</td>\n",
       "    </tr>\n",
       "    <tr>\n",
       "      <th>848724</th>\n",
       "      <td>848724</td>\n",
       "      <td>51960769</td>\n",
       "      <td>442011774762912292</td>\n",
       "      <td>2021-09-01</td>\n",
       "      <td>163021279</td>\n",
       "      <td>Sasha-Gay</td>\n",
       "      <td>Okay stay. Needs time to prep for guests thoug...</td>\n",
       "      <td>en</td>\n",
       "      <td>0.6409</td>\n",
       "      <td>NaN</td>\n",
       "    </tr>\n",
       "  </tbody>\n",
       "</table>\n",
       "<p>848725 rows × 10 columns</p>\n",
       "</div>"
      ],
      "text/plain": [
       "        Unnamed: 0  listing_id                  id        date  reviewer_id  \\\n",
       "0                0        2595               17857  2009-11-21        50679   \n",
       "1                1        2595               19176  2009-12-05        53267   \n",
       "2                2        2595               19760  2009-12-10        38960   \n",
       "3                3        2595               34320  2010-04-09        71130   \n",
       "4                4        2595               46312  2010-05-25       117113   \n",
       "...            ...         ...                 ...         ...          ...   \n",
       "848720      848720    51909801  439754058671859318  2021-08-29    210113336   \n",
       "848721      848721    51910059  439796226033211137  2021-08-29    175633805   \n",
       "848722      848722    51921047  439769182951927960  2021-08-29    255614539   \n",
       "848723      848723    51926089  441249378414275416  2021-08-31    419619884   \n",
       "848724      848724    51960769  442011774762912292  2021-09-01    163021279   \n",
       "\n",
       "       reviewer_name                                           comments  \\\n",
       "0               Jean  Notre séjour de trois nuits. . Nous avons appr...   \n",
       "1               Cate                                  Great experience.   \n",
       "2              Anita  I've stayed with my friend at the Midtown Cast...   \n",
       "3            Kai-Uwe  We've been staying here for about 9 nights, en...   \n",
       "4             Alicia  We had a wonderful stay at Jennifer's charming...   \n",
       "...              ...                                                ...   \n",
       "848720           Ari  This was one of the Best hotel experiences I h...   \n",
       "848721           Leo  The room was exactly as described and was over...   \n",
       "848722          Niki  Fast response . Easy check in . . Deposit appl...   \n",
       "848723        Ingrid     Amazing location and place! You will love it !   \n",
       "848724     Sasha-Gay  Okay stay. Needs time to prep for guests thoug...   \n",
       "\n",
       "       language  polarity_x  polarity_y  \n",
       "0            fr         NaN      0.8887  \n",
       "1            ro         NaN         NaN  \n",
       "2            en      0.9248         NaN  \n",
       "3            en      0.9229         NaN  \n",
       "4            en      0.9464         NaN  \n",
       "...         ...         ...         ...  \n",
       "848720       en      0.9960         NaN  \n",
       "848721       en      0.6588         NaN  \n",
       "848722       en      0.7650         NaN  \n",
       "848723       en      0.8619         NaN  \n",
       "848724       en      0.6409         NaN  \n",
       "\n",
       "[848725 rows x 10 columns]"
      ]
     },
     "execution_count": 16,
     "metadata": {},
     "output_type": "execute_result"
    }
   ],
   "source": [
    "rp"
   ]
  },
  {
   "cell_type": "code",
   "execution_count": null,
   "id": "ad087a13",
   "metadata": {},
   "outputs": [],
   "source": []
  }
 ],
 "metadata": {
  "kernelspec": {
   "display_name": "Python 3 (ipykernel)",
   "language": "python",
   "name": "python3"
  },
  "language_info": {
   "codemirror_mode": {
    "name": "ipython",
    "version": 3
   },
   "file_extension": ".py",
   "mimetype": "text/x-python",
   "name": "python",
   "nbconvert_exporter": "python",
   "pygments_lexer": "ipython3",
   "version": "3.8.12"
  }
 },
 "nbformat": 4,
 "nbformat_minor": 5
}
